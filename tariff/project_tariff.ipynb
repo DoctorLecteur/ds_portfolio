{
 "cells": [
  {
   "cell_type": "markdown",
   "id": "fa02370a",
   "metadata": {},
   "source": [
    "# Рекомендация тарифов"
   ]
  },
  {
   "cell_type": "markdown",
   "id": "556928ca",
   "metadata": {},
   "source": [
    "Откроем файл с данными и изучим их, для этого подключим библиотеку `pandas` помимо него подключим еще остальные библиотеки который нам пригодятся. Для того чтобы прочитать данные из датасета воспользуемся методом `read_csv`, для получения общей информации о датасете воспользуемся методом `info`."
   ]
  },
  {
   "cell_type": "markdown",
   "id": "05150bc4",
   "metadata": {},
   "source": [
    "### Общая информация"
   ]
  },
  {
   "cell_type": "code",
   "execution_count": 1,
   "id": "0fa4222c",
   "metadata": {},
   "outputs": [],
   "source": [
    "import pandas as pd\n",
    "from sklearn.model_selection import train_test_split\n",
    "from sklearn.tree import DecisionTreeClassifier\n",
    "from sklearn.ensemble import RandomForestClassifier\n",
    "from sklearn.linear_model import LogisticRegression\n",
    "from sklearn.metrics import accuracy_score\n",
    "from sklearn.dummy import DummyClassifier"
   ]
  },
  {
   "cell_type": "code",
   "execution_count": 2,
   "id": "306ce86a",
   "metadata": {},
   "outputs": [
    {
     "data": {
      "text/html": [
       "<div>\n",
       "<style scoped>\n",
       "    .dataframe tbody tr th:only-of-type {\n",
       "        vertical-align: middle;\n",
       "    }\n",
       "\n",
       "    .dataframe tbody tr th {\n",
       "        vertical-align: top;\n",
       "    }\n",
       "\n",
       "    .dataframe thead th {\n",
       "        text-align: right;\n",
       "    }\n",
       "</style>\n",
       "<table border=\"1\" class=\"dataframe\">\n",
       "  <thead>\n",
       "    <tr style=\"text-align: right;\">\n",
       "      <th></th>\n",
       "      <th>calls</th>\n",
       "      <th>minutes</th>\n",
       "      <th>messages</th>\n",
       "      <th>mb_used</th>\n",
       "      <th>is_ultra</th>\n",
       "    </tr>\n",
       "  </thead>\n",
       "  <tbody>\n",
       "    <tr>\n",
       "      <th>0</th>\n",
       "      <td>40.0</td>\n",
       "      <td>311.90</td>\n",
       "      <td>83.0</td>\n",
       "      <td>19915.42</td>\n",
       "      <td>0</td>\n",
       "    </tr>\n",
       "    <tr>\n",
       "      <th>1</th>\n",
       "      <td>85.0</td>\n",
       "      <td>516.75</td>\n",
       "      <td>56.0</td>\n",
       "      <td>22696.96</td>\n",
       "      <td>0</td>\n",
       "    </tr>\n",
       "    <tr>\n",
       "      <th>2</th>\n",
       "      <td>77.0</td>\n",
       "      <td>467.66</td>\n",
       "      <td>86.0</td>\n",
       "      <td>21060.45</td>\n",
       "      <td>0</td>\n",
       "    </tr>\n",
       "    <tr>\n",
       "      <th>3</th>\n",
       "      <td>106.0</td>\n",
       "      <td>745.53</td>\n",
       "      <td>81.0</td>\n",
       "      <td>8437.39</td>\n",
       "      <td>1</td>\n",
       "    </tr>\n",
       "    <tr>\n",
       "      <th>4</th>\n",
       "      <td>66.0</td>\n",
       "      <td>418.74</td>\n",
       "      <td>1.0</td>\n",
       "      <td>14502.75</td>\n",
       "      <td>0</td>\n",
       "    </tr>\n",
       "  </tbody>\n",
       "</table>\n",
       "</div>"
      ],
      "text/plain": [
       "   calls  minutes  messages   mb_used  is_ultra\n",
       "0   40.0   311.90      83.0  19915.42         0\n",
       "1   85.0   516.75      56.0  22696.96         0\n",
       "2   77.0   467.66      86.0  21060.45         0\n",
       "3  106.0   745.53      81.0   8437.39         1\n",
       "4   66.0   418.74       1.0  14502.75         0"
      ]
     },
     "execution_count": 2,
     "metadata": {},
     "output_type": "execute_result"
    }
   ],
   "source": [
    "try:\n",
    "    data = pd.read_csv('/datasets/users_behavior.csv')\n",
    "except:\n",
    "    data = pd.read_csv('users_behavior.csv')\n",
    "data.head()"
   ]
  },
  {
   "cell_type": "code",
   "execution_count": 3,
   "id": "35835aeb",
   "metadata": {},
   "outputs": [
    {
     "name": "stdout",
     "output_type": "stream",
     "text": [
      "<class 'pandas.core.frame.DataFrame'>\n",
      "RangeIndex: 3214 entries, 0 to 3213\n",
      "Data columns (total 5 columns):\n",
      " #   Column    Non-Null Count  Dtype  \n",
      "---  ------    --------------  -----  \n",
      " 0   calls     3214 non-null   float64\n",
      " 1   minutes   3214 non-null   float64\n",
      " 2   messages  3214 non-null   float64\n",
      " 3   mb_used   3214 non-null   float64\n",
      " 4   is_ultra  3214 non-null   int64  \n",
      "dtypes: float64(4), int64(1)\n",
      "memory usage: 125.7 KB\n"
     ]
    }
   ],
   "source": [
    "data.info()"
   ]
  },
  {
   "cell_type": "markdown",
   "id": "b89ecd5f",
   "metadata": {},
   "source": [
    "По данным видно, что у нас есть 5 различных столбцов с определнной информацией, у всех столбцов опреден числовой тип данных и пропусков в столбцах нет. Проверим есть ли в них явные дубликаты."
   ]
  },
  {
   "cell_type": "code",
   "execution_count": 4,
   "id": "87a8ab41",
   "metadata": {},
   "outputs": [
    {
     "data": {
      "text/plain": [
       "0"
      ]
     },
     "execution_count": 4,
     "metadata": {},
     "output_type": "execute_result"
    }
   ],
   "source": [
    "data.duplicated().sum()"
   ]
  },
  {
   "cell_type": "markdown",
   "id": "6cdb6bd8",
   "metadata": {},
   "source": [
    "Явных дубликатов нет. Если посмотреть на первые 5 строк из датасета, то так как там указны только числа, можно прийти к выводу, что неявных дубликатов нет в датасете."
   ]
  },
  {
   "cell_type": "markdown",
   "id": "c0035af5",
   "metadata": {},
   "source": [
    "### Разделение данных на выборки"
   ]
  },
  {
   "cell_type": "markdown",
   "id": "bb478a57",
   "metadata": {},
   "source": [
    "Данные заранее были уже обработаны, предобработка не нужна, можно переходить к разделение данных на выборки для обучения моделей машинного обучения. Разобьем данные на три выборки — обучащая **60%**, валидационная **20%** и тестовая **20%**, для этого воспользуемся методом `train_test_split` из библиотеки `sklearn`."
   ]
  },
  {
   "cell_type": "code",
   "execution_count": 5,
   "id": "1be45f0e",
   "metadata": {},
   "outputs": [
    {
     "name": "stdout",
     "output_type": "stream",
     "text": [
      "(1928, 5)\n",
      "(643, 5)\n",
      "(643, 5)\n"
     ]
    }
   ],
   "source": [
    "#сначала разбиваем выборку на обучающую и валидационную, затем из валидационной выборки получаем тестовую\n",
    "data_train, data_valid = train_test_split(data, test_size=0.4, random_state=12345)\n",
    "data_valid, data_test = train_test_split(data_valid, test_size=0.5, random_state=12345)\n",
    "print(data_train.shape)\n",
    "print(data_valid.shape)\n",
    "print(data_test.shape)"
   ]
  },
  {
   "cell_type": "markdown",
   "id": "46f6b204",
   "metadata": {},
   "source": [
    "По размерности видно, что данные разделились корректно, выбирем теперь из данных признаки и что необходимо предсказать. В задание указано, что нужно **построить систему, способную проанализировать поведение клиентов и предложить пользователям новый тариф: «Смарт» или «Ультра»**, каким тарифом пользовался клиент указано в столбце `is_ultra` («Ультра» — 1, «Смарт» — 0), в остальных столбцах указана информация о том сколько было звонков, потраченных минут, количестов sms-сообщений и зрасходованный интернет-трафик в Мб, эту информацию можно взять за признаки по которыму можно предсказать какой тариф пождходит клиенту.\n",
    "\n",
    "В качестве признаков возьмем столбцы `calls`, `minutes`, `messages`, `mb_used` и обучим модель, чтобы она помогла предсказать значение в столбце `is_ultra`."
   ]
  },
  {
   "cell_type": "code",
   "execution_count": 6,
   "id": "ba5564cf",
   "metadata": {},
   "outputs": [],
   "source": [
    "data_train_features = data_train.drop(['is_ultra'], axis=1)\n",
    "data_train_target = data_train['is_ultra']\n",
    "\n",
    "data_valid_features = data_valid.drop(['is_ultra'], axis=1)\n",
    "data_valid_target = data_valid['is_ultra']\n",
    "\n",
    "data_test_features = data_test.drop(['is_ultra'], axis=1)\n",
    "data_test_target = data_test['is_ultra']"
   ]
  },
  {
   "cell_type": "markdown",
   "id": "f0d6c9ba",
   "metadata": {},
   "source": [
    "### Исследование моделей"
   ]
  },
  {
   "cell_type": "markdown",
   "id": "f95e487f",
   "metadata": {},
   "source": [
    "Возьмем для решения нашей задачи несколько моделей машинного обучения — **Дерево решений**, **Случайный лес**, **Логистическая регрессия** и переберем в них гиперпараметры, чтобы найти лучшую модель для решения нашей задачи. Для оценок модели будем использовать метрику качества *accuracy*.\n",
    "\n",
    "Начнем с модели **Дерево решений**:"
   ]
  },
  {
   "cell_type": "code",
   "execution_count": 7,
   "id": "c652b62e",
   "metadata": {},
   "outputs": [
    {
     "name": "stdout",
     "output_type": "stream",
     "text": [
      "Глубина дерева: 1 Точность модели: 0.7542768273716952\n",
      "Глубина дерева: 2 Точность модели: 0.7822706065318819\n",
      "Глубина дерева: 3 Точность модели: 0.7853810264385692\n",
      "Глубина дерева: 4 Точность модели: 0.7791601866251944\n",
      "Глубина дерева: 5 Точность модели: 0.7791601866251944\n",
      "Глубина дерева: 6 Точность модели: 0.7838258164852255\n",
      "Глубина дерева: 7 Точность модели: 0.7822706065318819\n",
      "Глубина дерева: 8 Точность модели: 0.7791601866251944\n",
      "Глубина дерева: 9 Точность модели: 0.7822706065318819\n",
      "Глубина дерева: 10 Точность модели: 0.7744945567651633\n"
     ]
    }
   ],
   "source": [
    "best_model_tree = None\n",
    "best_result_model_tree = 0\n",
    "\n",
    "for depth in range(1, 11):\n",
    "    model_tree = DecisionTreeClassifier(random_state=12345, max_depth=depth)\n",
    "    model_tree.fit(data_train_features, data_train_target)\n",
    "    predictions_tree = model_tree.predict(data_valid_features)\n",
    "    result_tree = accuracy_score(data_valid_target, predictions_tree)\n",
    "    \n",
    "    if result_tree > best_result_model_tree:\n",
    "        best_result_model_tree = result_tree\n",
    "        best_model_tree = model_tree\n",
    "    \n",
    "    print('Глубина дерева:', depth, 'Точность модели:', result_tree)"
   ]
  },
  {
   "cell_type": "markdown",
   "id": "f73668c6",
   "metadata": {},
   "source": [
    "Модель **Дерево решений** на валидационной выборке показывает точность **75%** с максимальной глубиной дерева равной **1**, далее с увелечением числа максимальной глубины дерева точность немного вырастает до **78.5%** и начиная с максимальной глубины дерева равной **3**, точность модели **Дерево решений** немного падает, она конечно не опускается до **75%**, но максимального значения точности **78.5%** больше не достигает.\n",
    "\n",
    "Обучим далее модель **Случайного леса**, может у неё получится получится точность выше, чем у модели **Дерево решений**. У модели **Случайного леса** будем перебирать два гиперпараметра, `max_depth` — максимальная глубина дерева и `n_estimators` — количество деревьев в лесе, для поиска более оптимального решения:"
   ]
  },
  {
   "cell_type": "code",
   "execution_count": 8,
   "id": "e0b65be7",
   "metadata": {},
   "outputs": [
    {
     "name": "stdout",
     "output_type": "stream",
     "text": [
      "Количество деревьев в лесе: 10 Глубина дерева: 1 Точность модели: 0.7884914463452566\n",
      "Количество деревьев в лесе: 20 Глубина дерева: 1 Точность модели: 0.749611197511664\n",
      "Количество деревьев в лесе: 30 Глубина дерева: 1 Точность модели: 0.7869362363919129\n",
      "Количество деревьев в лесе: 40 Глубина дерева: 1 Точность модели: 0.7558320373250389\n",
      "Количество деревьев в лесе: 50 Глубина дерева: 1 Точность модели: 0.7542768273716952\n",
      "Количество деревьев в лесе: 10 Глубина дерева: 3 Точность модели: 0.7916018662519441\n",
      "Количество деревьев в лесе: 20 Глубина дерева: 3 Точность модели: 0.7884914463452566\n",
      "Количество деревьев в лесе: 30 Глубина дерева: 3 Точность модели: 0.7900466562986003\n",
      "Количество деревьев в лесе: 40 Глубина дерева: 3 Точность модели: 0.7900466562986003\n",
      "Количество деревьев в лесе: 50 Глубина дерева: 3 Точность модели: 0.7869362363919129\n",
      "Количество деревьев в лесе: 10 Глубина дерева: 5 Точность модели: 0.7853810264385692\n",
      "Количество деревьев в лесе: 20 Глубина дерева: 5 Точность модели: 0.7947122861586314\n",
      "Количество деревьев в лесе: 30 Глубина дерева: 5 Точность модели: 0.7931570762052877\n",
      "Количество деревьев в лесе: 40 Глубина дерева: 5 Точность модели: 0.7916018662519441\n",
      "Количество деревьев в лесе: 50 Глубина дерева: 5 Точность модели: 0.7931570762052877\n",
      "Количество деревьев в лесе: 10 Глубина дерева: 7 Точность модели: 0.7900466562986003\n",
      "Количество деревьев в лесе: 20 Глубина дерева: 7 Точность модели: 0.80248833592535\n",
      "Количество деревьев в лесе: 30 Глубина дерева: 7 Точность модели: 0.7978227060653188\n",
      "Количество деревьев в лесе: 40 Глубина дерева: 7 Точность модели: 0.8040435458786936\n",
      "Количество деревьев в лесе: 50 Глубина дерева: 7 Точность модели: 0.7978227060653188\n",
      "Количество деревьев в лесе: 10 Глубина дерева: 9 Точность модели: 0.7962674961119751\n",
      "Количество деревьев в лесе: 20 Глубина дерева: 9 Точность модели: 0.7947122861586314\n",
      "Количество деревьев в лесе: 30 Глубина дерева: 9 Точность модели: 0.7962674961119751\n",
      "Количество деревьев в лесе: 40 Глубина дерева: 9 Точность модели: 0.7947122861586314\n",
      "Количество деревьев в лесе: 50 Глубина дерева: 9 Точность модели: 0.7978227060653188\n"
     ]
    }
   ],
   "source": [
    "best_model_randomforest = None\n",
    "best_result_randomforest = 0\n",
    "\n",
    "for depth in range(1, 11, 2):\n",
    "    for est in range(10, 51, 10):\n",
    "        model_randomforest = RandomForestClassifier(max_depth=depth, n_estimators=est)\n",
    "        model_randomforest.fit(data_train_features, data_train_target)\n",
    "        predictions_randomforest = model_randomforest.predict(data_valid_features)\n",
    "        result_randomforest = accuracy_score(data_valid_target, predictions_randomforest)\n",
    "        \n",
    "        if result_randomforest > best_result_randomforest:\n",
    "            best_result_randomforest = result_randomforest\n",
    "            best_model_randomforest = model_randomforest\n",
    "            \n",
    "        print('Количество деревьев в лесе:', est, 'Глубина дерева:', depth, 'Точность модели:', result_randomforest)"
   ]
  },
  {
   "cell_type": "markdown",
   "id": "d979538b",
   "metadata": {},
   "source": [
    "По сравнению с моделью **Дерево решений** модель **Случайного леса** показывает результат точности на валидационной выборке лучше - максимальная точность достигает **80%**, при количестве деревьев равным **40** и максимальной глубине дерева равной **7**, далее с увеличением значений в гиперпараметрах точность модели **Случайного леса** немного падает, она конечно не опускается до **75%**, но максимального значения точности **80%** больше не достигает.\n",
    "\n",
    "Проверим ещё модель **Логистической регрессии**, может обучив её, мы получим точность выше:"
   ]
  },
  {
   "cell_type": "code",
   "execution_count": 9,
   "id": "f6a67ee7",
   "metadata": {},
   "outputs": [
    {
     "name": "stdout",
     "output_type": "stream",
     "text": [
      "Точность модели: 0.7107309486780715\n"
     ]
    }
   ],
   "source": [
    "model_logistic = LogisticRegression(random_state=12345, solver='lbfgs', max_iter=1000)\n",
    "model_logistic.fit(data_train_features, data_train_target)\n",
    "predictions_logistic = model_logistic.predict(data_valid_features)\n",
    "result_logistic = accuracy_score(data_valid_target, predictions_logistic)\n",
    "        \n",
    "print('Точность модели:', result_logistic)"
   ]
  },
  {
   "cell_type": "markdown",
   "id": "8d1da123",
   "metadata": {},
   "source": [
    "Модель **Логистической регрессии** показала точность равную **71%** самый низкий результат по сравнению с моделями **Дерево решений** — точность **78.5%** и **Случайный лес** — точность **80%**. На основании выше проведенного исследования мы нашли модель машинного обучения, которую можно использовать на тествой выборке — это модель **Случайный лес** с гиперпараметрами `n_estimators` — количество деревьев в лесу равное **40** и `max_depth` — глубина дерева равное **7**."
   ]
  },
  {
   "cell_type": "markdown",
   "id": "d7b813ff",
   "metadata": {},
   "source": [
    "### Проверка на тестовой выборке"
   ]
  },
  {
   "cell_type": "markdown",
   "id": "177ea1ea",
   "metadata": {},
   "source": [
    "Ранее нам удалось определить, что лучшую точность при обучении показала модель **Случайный лес** с гиперпараметрами `n_estimators` — количество деревьев в лесу равное **40** и `max_depth` — глубина дерева равное **7**. Проверим теперь выбранную нами модель на тестовых данных:"
   ]
  },
  {
   "cell_type": "code",
   "execution_count": 10,
   "id": "3027d8f6",
   "metadata": {},
   "outputs": [
    {
     "name": "stdout",
     "output_type": "stream",
     "text": [
      "Точность модели \"Случайный лес\" на тестовой выборке 0.80248833592535\n"
     ]
    }
   ],
   "source": [
    "model_randomforest = RandomForestClassifier(random_state=12345, max_depth=7, n_estimators=40)\n",
    "model_randomforest.fit(data_train_features, data_train_target)\n",
    "predictions_randomforest = model_randomforest.predict(data_test_features)\n",
    "result_randomforest = accuracy_score(data_test_target, predictions_randomforest)\n",
    "print('Точность модели \"Случайный лес\" на тестовой выборке', result_randomforest)"
   ]
  },
  {
   "cell_type": "markdown",
   "id": "fcf71ed6",
   "metadata": {},
   "source": [
    "Как можно заметить у модели **Случайный лес** на тестовой выборке точность не изменилась — осталась на уровне **80%**, что говорит о том, что мы сделали правильный выбор в пользу этой модели."
   ]
  },
  {
   "cell_type": "markdown",
   "id": "6b4e6b1c",
   "metadata": {},
   "source": [
    "### Проверка моделей на вменяемость"
   ]
  },
  {
   "cell_type": "markdown",
   "id": "2742d021",
   "metadata": {},
   "source": [
    "Для проверки моделей на вменяемость воспользуемся моделью `DummyClassifier` из библиотеки `sklearn` эта модель используется для проверки более сложных моделей. Чтобы проверить с помощью данной модели обученную модель **Случайного леса** укажем для гиперпараметра `strategy` — *стратегия, используемая для создания прогнозов* значение `uniform`, тогда модель `DummyClassifier` сгенерирует прогнозы равномерно случайным образом из списка уникальных классов, то есть в модели равновероятно будут распределены значения выбор тарифа «Ультра» — 1 и «Смарт» — 0:"
   ]
  },
  {
   "cell_type": "code",
   "execution_count": 11,
   "id": "39cdc774",
   "metadata": {},
   "outputs": [
    {
     "name": "stdout",
     "output_type": "stream",
     "text": [
      "Точность случайной модели на тестовой выборке 0.5225505443234837\n"
     ]
    }
   ],
   "source": [
    "model_dummy = DummyClassifier(strategy='uniform')\n",
    "model_dummy.fit(data_train_features, data_train_target)\n",
    "predictions_dummy = model_dummy.predict(data_test_features)\n",
    "result_dummy = accuracy_score(data_test_target, predictions_dummy)\n",
    "print('Точность случайной модели на тестовой выборке', result_dummy)"
   ]
  },
  {
   "cell_type": "markdown",
   "id": "63eaecc0",
   "metadata": {},
   "source": [
    "Точность модели, с равномерным случайным распределением значений выбора тарифа, на тестовой выборке находится рядом со значением **50%**, что говорит о вменяемости наших обученных модели **Случайного леса** у которой точность равна **80%**."
   ]
  },
  {
   "cell_type": "markdown",
   "id": "d8762c41",
   "metadata": {},
   "source": [
    "### Общий вывод"
   ]
  },
  {
   "cell_type": "markdown",
   "id": "1e3d1403",
   "metadata": {},
   "source": [
    "В рамках задания нам нужно было построить модель машинного обучения, которая смогла бы рекомендовать новый тариф пользователю на основании использования мобильной связи, точность обуения модели должна быть составлять не менее **75%**. \n",
    "\n",
    "Было обучено несколько моделей машинного обучения по предоставленным данным и получены следующие результаты:\n",
    "- Модель **Дерево решений** точность на валидационной выборке — **78.5%**;\n",
    "- Модель **Случайный лес** точность на валидационной выборке — **80%**;\n",
    "- Модель **Логистическая регрессия** точность на валидационной выорке — **71%**.\n",
    "\n",
    "На основании проведенной проверки обучения моделей на валидационной выборке была выбрана модель **Случайный лес** для проверки на тестовой выборке, на тестовой выборке данная модель показала такую же точность как и на валидационной выборке и составила **80%**.\n",
    "\n",
    "На основании выше перечисленного для рекомендации тарифа пользователю необходимо использовать модель **Случайный лес**, так как данная модель показала максимальную точность **80%** и на тестовой выборке эта точность не изменилась."
   ]
  },
  {
   "cell_type": "code",
   "execution_count": null,
   "id": "e49c6bc0",
   "metadata": {},
   "outputs": [],
   "source": []
  }
 ],
 "metadata": {
  "ExecuteTimeLog": [
   {
    "duration": 1696,
    "start_time": "2023-02-13T20:19:21.825Z"
   },
   {
    "duration": 48,
    "start_time": "2023-02-13T20:19:23.522Z"
   },
   {
    "duration": 10,
    "start_time": "2023-02-13T20:19:23.572Z"
   },
   {
    "duration": 9,
    "start_time": "2023-02-13T20:19:23.584Z"
   },
   {
    "duration": 7,
    "start_time": "2023-02-13T20:19:23.595Z"
   },
   {
    "duration": 9,
    "start_time": "2023-02-13T20:19:23.603Z"
   },
   {
    "duration": 84,
    "start_time": "2023-02-13T20:19:23.613Z"
   },
   {
    "duration": 2002,
    "start_time": "2023-02-13T20:19:23.698Z"
   },
   {
    "duration": 87,
    "start_time": "2023-02-13T20:19:25.702Z"
   },
   {
    "duration": 11,
    "start_time": "2023-02-13T20:19:25.792Z"
   },
   {
    "duration": 110,
    "start_time": "2023-02-13T20:19:25.805Z"
   },
   {
    "duration": 6,
    "start_time": "2023-02-13T20:19:25.916Z"
   }
  ],
  "kernelspec": {
   "display_name": "Python 3 (ipykernel)",
   "language": "python",
   "name": "python3"
  },
  "language_info": {
   "codemirror_mode": {
    "name": "ipython",
    "version": 3
   },
   "file_extension": ".py",
   "mimetype": "text/x-python",
   "name": "python",
   "nbconvert_exporter": "python",
   "pygments_lexer": "ipython3",
   "version": "3.9.13"
  },
  "toc": {
   "base_numbering": 1,
   "nav_menu": {},
   "number_sections": true,
   "sideBar": true,
   "skip_h1_title": true,
   "title_cell": "Table of Contents",
   "title_sidebar": "Contents",
   "toc_cell": false,
   "toc_position": {},
   "toc_section_display": true,
   "toc_window_display": false
  }
 },
 "nbformat": 4,
 "nbformat_minor": 5
}
