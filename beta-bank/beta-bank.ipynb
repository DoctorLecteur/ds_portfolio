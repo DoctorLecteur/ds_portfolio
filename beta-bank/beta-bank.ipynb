{
 "cells": [
  {
   "cell_type": "markdown",
   "id": "1e86905e",
   "metadata": {},
   "source": [
    "# Отток клиентов"
   ]
  },
  {
   "cell_type": "markdown",
   "id": "741c5067",
   "metadata": {},
   "source": [
    "Из «Бета-Банка» стали уходить клиенты. Каждый месяц. Немного, но заметно. Банковские маркетологи посчитали: сохранять текущих клиентов дешевле, чем привлекать новых.\n",
    "\n",
    "Нужно спрогнозировать, уйдёт клиент из банка в ближайшее время или нет. Вам предоставлены исторические данные о поведении клиентов и расторжении договоров с банком. \n",
    "\n",
    "Постройте модель с предельно большим значением *F1*-меры. Чтобы сдать проект успешно, нужно довести метрику до 0.59. Проверьте *F1*-меру на тестовой выборке самостоятельно.\n",
    "\n",
    "Дополнительно измеряйте *AUC-ROC*, сравнивайте её значение с *F1*-мерой.\n",
    "\n",
    "Источник данных: [https://www.kaggle.com/barelydedicated/bank-customer-churn-modeling](https://www.kaggle.com/barelydedicated/bank-customer-churn-modeling)"
   ]
  },
  {
   "cell_type": "markdown",
   "id": "06d4594c",
   "metadata": {},
   "source": [
    "## Подготовка данных"
   ]
  },
  {
   "cell_type": "markdown",
   "id": "013a9dc9",
   "metadata": {},
   "source": [
    "Откроем файл с данными и изучим их, для этого подключим библиотеку `pandas` помимо неё подключим еще остальные библиотеки, которые нам пригодятся. Для того чтобы прочитать данные из датасета воспользуемся методом `read_csv`, для получения общей информации о датасете воспользуемся методом `info`."
   ]
  },
  {
   "cell_type": "code",
   "execution_count": 1,
   "id": "dce0371c",
   "metadata": {},
   "outputs": [],
   "source": [
    "import pandas as pd\n",
    "from sklearn.model_selection import train_test_split\n",
    "from sklearn.tree import DecisionTreeClassifier\n",
    "from sklearn.ensemble import RandomForestClassifier\n",
    "from sklearn.linear_model import LogisticRegression\n",
    "from sklearn.metrics import accuracy_score, roc_auc_score, f1_score\n",
    "from sklearn.utils import shuffle\n",
    "from sklearn.preprocessing import StandardScaler"
   ]
  },
  {
   "cell_type": "code",
   "execution_count": 2,
   "id": "22f800ab",
   "metadata": {},
   "outputs": [
    {
     "data": {
      "text/html": [
       "<div>\n",
       "<style scoped>\n",
       "    .dataframe tbody tr th:only-of-type {\n",
       "        vertical-align: middle;\n",
       "    }\n",
       "\n",
       "    .dataframe tbody tr th {\n",
       "        vertical-align: top;\n",
       "    }\n",
       "\n",
       "    .dataframe thead th {\n",
       "        text-align: right;\n",
       "    }\n",
       "</style>\n",
       "<table border=\"1\" class=\"dataframe\">\n",
       "  <thead>\n",
       "    <tr style=\"text-align: right;\">\n",
       "      <th></th>\n",
       "      <th>RowNumber</th>\n",
       "      <th>CustomerId</th>\n",
       "      <th>Surname</th>\n",
       "      <th>CreditScore</th>\n",
       "      <th>Geography</th>\n",
       "      <th>Gender</th>\n",
       "      <th>Age</th>\n",
       "      <th>Tenure</th>\n",
       "      <th>Balance</th>\n",
       "      <th>NumOfProducts</th>\n",
       "      <th>HasCrCard</th>\n",
       "      <th>IsActiveMember</th>\n",
       "      <th>EstimatedSalary</th>\n",
       "      <th>Exited</th>\n",
       "    </tr>\n",
       "  </thead>\n",
       "  <tbody>\n",
       "    <tr>\n",
       "      <th>0</th>\n",
       "      <td>1</td>\n",
       "      <td>15634602</td>\n",
       "      <td>Hargrave</td>\n",
       "      <td>619</td>\n",
       "      <td>France</td>\n",
       "      <td>Female</td>\n",
       "      <td>42</td>\n",
       "      <td>2.0</td>\n",
       "      <td>0.00</td>\n",
       "      <td>1</td>\n",
       "      <td>1</td>\n",
       "      <td>1</td>\n",
       "      <td>101348.88</td>\n",
       "      <td>1</td>\n",
       "    </tr>\n",
       "    <tr>\n",
       "      <th>1</th>\n",
       "      <td>2</td>\n",
       "      <td>15647311</td>\n",
       "      <td>Hill</td>\n",
       "      <td>608</td>\n",
       "      <td>Spain</td>\n",
       "      <td>Female</td>\n",
       "      <td>41</td>\n",
       "      <td>1.0</td>\n",
       "      <td>83807.86</td>\n",
       "      <td>1</td>\n",
       "      <td>0</td>\n",
       "      <td>1</td>\n",
       "      <td>112542.58</td>\n",
       "      <td>0</td>\n",
       "    </tr>\n",
       "    <tr>\n",
       "      <th>2</th>\n",
       "      <td>3</td>\n",
       "      <td>15619304</td>\n",
       "      <td>Onio</td>\n",
       "      <td>502</td>\n",
       "      <td>France</td>\n",
       "      <td>Female</td>\n",
       "      <td>42</td>\n",
       "      <td>8.0</td>\n",
       "      <td>159660.80</td>\n",
       "      <td>3</td>\n",
       "      <td>1</td>\n",
       "      <td>0</td>\n",
       "      <td>113931.57</td>\n",
       "      <td>1</td>\n",
       "    </tr>\n",
       "    <tr>\n",
       "      <th>3</th>\n",
       "      <td>4</td>\n",
       "      <td>15701354</td>\n",
       "      <td>Boni</td>\n",
       "      <td>699</td>\n",
       "      <td>France</td>\n",
       "      <td>Female</td>\n",
       "      <td>39</td>\n",
       "      <td>1.0</td>\n",
       "      <td>0.00</td>\n",
       "      <td>2</td>\n",
       "      <td>0</td>\n",
       "      <td>0</td>\n",
       "      <td>93826.63</td>\n",
       "      <td>0</td>\n",
       "    </tr>\n",
       "    <tr>\n",
       "      <th>4</th>\n",
       "      <td>5</td>\n",
       "      <td>15737888</td>\n",
       "      <td>Mitchell</td>\n",
       "      <td>850</td>\n",
       "      <td>Spain</td>\n",
       "      <td>Female</td>\n",
       "      <td>43</td>\n",
       "      <td>2.0</td>\n",
       "      <td>125510.82</td>\n",
       "      <td>1</td>\n",
       "      <td>1</td>\n",
       "      <td>1</td>\n",
       "      <td>79084.10</td>\n",
       "      <td>0</td>\n",
       "    </tr>\n",
       "  </tbody>\n",
       "</table>\n",
       "</div>"
      ],
      "text/plain": [
       "   RowNumber  CustomerId   Surname  CreditScore Geography  Gender  Age  \\\n",
       "0          1    15634602  Hargrave          619    France  Female   42   \n",
       "1          2    15647311      Hill          608     Spain  Female   41   \n",
       "2          3    15619304      Onio          502    France  Female   42   \n",
       "3          4    15701354      Boni          699    France  Female   39   \n",
       "4          5    15737888  Mitchell          850     Spain  Female   43   \n",
       "\n",
       "   Tenure    Balance  NumOfProducts  HasCrCard  IsActiveMember  \\\n",
       "0     2.0       0.00              1          1               1   \n",
       "1     1.0   83807.86              1          0               1   \n",
       "2     8.0  159660.80              3          1               0   \n",
       "3     1.0       0.00              2          0               0   \n",
       "4     2.0  125510.82              1          1               1   \n",
       "\n",
       "   EstimatedSalary  Exited  \n",
       "0        101348.88       1  \n",
       "1        112542.58       0  \n",
       "2        113931.57       1  \n",
       "3         93826.63       0  \n",
       "4         79084.10       0  "
      ]
     },
     "execution_count": 2,
     "metadata": {},
     "output_type": "execute_result"
    }
   ],
   "source": [
    "try:\n",
    "    data = pd.read_csv('/datasets/Churn.csv')\n",
    "except:\n",
    "    data = pd.read_csv('Churn.csv')\n",
    "data.head()"
   ]
  },
  {
   "cell_type": "code",
   "execution_count": 3,
   "id": "488e0a2b",
   "metadata": {},
   "outputs": [
    {
     "name": "stdout",
     "output_type": "stream",
     "text": [
      "<class 'pandas.core.frame.DataFrame'>\n",
      "RangeIndex: 10000 entries, 0 to 9999\n",
      "Data columns (total 14 columns):\n",
      " #   Column           Non-Null Count  Dtype  \n",
      "---  ------           --------------  -----  \n",
      " 0   RowNumber        10000 non-null  int64  \n",
      " 1   CustomerId       10000 non-null  int64  \n",
      " 2   Surname          10000 non-null  object \n",
      " 3   CreditScore      10000 non-null  int64  \n",
      " 4   Geography        10000 non-null  object \n",
      " 5   Gender           10000 non-null  object \n",
      " 6   Age              10000 non-null  int64  \n",
      " 7   Tenure           9091 non-null   float64\n",
      " 8   Balance          10000 non-null  float64\n",
      " 9   NumOfProducts    10000 non-null  int64  \n",
      " 10  HasCrCard        10000 non-null  int64  \n",
      " 11  IsActiveMember   10000 non-null  int64  \n",
      " 12  EstimatedSalary  10000 non-null  float64\n",
      " 13  Exited           10000 non-null  int64  \n",
      "dtypes: float64(3), int64(8), object(3)\n",
      "memory usage: 1.1+ MB\n"
     ]
    }
   ],
   "source": [
    "data.info()"
   ]
  },
  {
   "cell_type": "markdown",
   "id": "7b17945a",
   "metadata": {},
   "source": [
    "По данным видно, что есть пропуски в столбце `Tenure` — *сколько лет человек является клиентом банка*, далее проанализируем данные в этом столбце и попробуем заполнить пропуски, в остальных столбцах пропусков в данных нет. Также можно заметить, что в датасете в основом числовые данные, только три столбца с типом **object**, далее детальнее смотрим данные в этих в столбцах, но для начала приведем в корректный вид названия столбцов согласно стандарту Python.\n",
    "\n",
    "Так как нам часто нужно приводить название столбцов в формат по стандарту, напишем небольшую функцию, которая будет переименовать столбцы в датасете, в дальнейшем её можно будет использовать в других проектах:"
   ]
  },
  {
   "cell_type": "code",
   "execution_count": 4,
   "id": "b9d2c293",
   "metadata": {},
   "outputs": [],
   "source": [
    "def rename_columns(columns): #функция для переименования столбцов\n",
    "    '''\n",
    "    Функция приводит название столбцов в датасете в формат shake case по стандарту Python,\n",
    "    на вход функция принимает текущие названия столбцов в датасете в виде списка\n",
    "    '''\n",
    "    columns_rename = []\n",
    "    new_name_column = \"\"\n",
    "    for column in columns:\n",
    "        for index_symbol in range(0, len(column), 1):\n",
    "            if index_symbol == 0 and column[index_symbol].istitle(): #метод istitle проверяет является ли символ заглавным\n",
    "                new_name_column += column[index_symbol].lower()\n",
    "            elif index_symbol > 0 and column[index_symbol].istitle():\n",
    "                new_name_column += '_' + column[index_symbol].lower()\n",
    "            else:\n",
    "                new_name_column += column[index_symbol]\n",
    "        columns_rename.append(new_name_column)\n",
    "        new_name_column = \"\"\n",
    "    return columns_rename"
   ]
  },
  {
   "cell_type": "code",
   "execution_count": 5,
   "id": "0d01480f",
   "metadata": {},
   "outputs": [
    {
     "data": {
      "text/plain": [
       "Index(['row_number', 'customer_id', 'surname', 'credit_score', 'geography',\n",
       "       'gender', 'age', 'tenure', 'balance', 'num_of_products', 'has_cr_card',\n",
       "       'is_active_member', 'estimated_salary', 'exited'],\n",
       "      dtype='object')"
      ]
     },
     "execution_count": 5,
     "metadata": {},
     "output_type": "execute_result"
    }
   ],
   "source": [
    "data.columns = rename_columns(data.columns)\n",
    "data.columns"
   ]
  },
  {
   "cell_type": "markdown",
   "id": "fca04cde",
   "metadata": {},
   "source": [
    "Стобцы переименовались корректно, можно переходить к обработке пропусков. \n",
    "\n",
    "Как мы помним в датасете есть пропуски всего в одном столбце — `tenure` — *сколько лет человек является клиентом банка*, посмотрим для начала какие значения содержатся в этом столбце:"
   ]
  },
  {
   "cell_type": "code",
   "execution_count": 6,
   "id": "da8e800f",
   "metadata": {},
   "outputs": [
    {
     "data": {
      "text/plain": [
       "[0.0, 1.0, 2.0, 3.0, 4.0, 5.0, 6.0, 7.0, 8.0, 9.0, 10.0, nan]"
      ]
     },
     "execution_count": 6,
     "metadata": {},
     "output_type": "execute_result"
    }
   ],
   "source": [
    "sorted(data['tenure'].unique())"
   ]
  },
  {
   "cell_type": "markdown",
   "id": "db09016e",
   "metadata": {},
   "source": [
    "Значения в этом столбце находятся в диапазоне от **0** до **10**, при значении **0** скорее всего имеется в виду, что человек был клиентом банка меньше одного года. Мы можем попробовать заполнить пропуски средним значением, но тогда у нас будет перекос в данных в сторону среднего значения, что может не соотвествовать реальности. Попробуем заполнить пропуски медианным значением, но для начала нам нужно найти столбец, который коррелирует со столбцом `tenure`, чтобы корректно рассчитать медиану для разных групп клиентов, потому что, например, клиенты разных возрастов могут быть клиентами банка разное количество лет, соответственно и медиана у них будет разная."
   ]
  },
  {
   "cell_type": "code",
   "execution_count": 7,
   "id": "8b96cf76",
   "metadata": {},
   "outputs": [
    {
     "data": {
      "text/plain": [
       "row_number         -0.007322\n",
       "customer_id        -0.021418\n",
       "credit_score       -0.000062\n",
       "age                -0.013134\n",
       "tenure              1.000000\n",
       "balance            -0.007911\n",
       "num_of_products     0.011979\n",
       "has_cr_card         0.027232\n",
       "is_active_member   -0.032178\n",
       "estimated_salary    0.010520\n",
       "exited             -0.016761\n",
       "Name: tenure, dtype: float64"
      ]
     },
     "execution_count": 7,
     "metadata": {},
     "output_type": "execute_result"
    }
   ],
   "source": [
    "data.corr()['tenure']"
   ]
  },
  {
   "cell_type": "markdown",
   "id": "4f3250d6",
   "metadata": {},
   "source": [
    "Так как корреляция по всем столбцам почти равну нуля, то столбец `tenure` не корреляриует не с одним столбцом, либо эта корреляция очень слабая. Так как нам нужно для решения задачи обучить модель машинного обучения и пропусков где-то **10%**, целесобразнее будет удалить строки, где есть пропуски в столбце `tenure`, чтобы не испортить обучение модели машинного обучения."
   ]
  },
  {
   "cell_type": "code",
   "execution_count": 8,
   "id": "51e64892",
   "metadata": {},
   "outputs": [],
   "source": [
    "data = data.loc[~(data['tenure'].isna())]"
   ]
  },
  {
   "cell_type": "code",
   "execution_count": 9,
   "id": "b5876474",
   "metadata": {},
   "outputs": [
    {
     "data": {
      "text/plain": [
       "row_number          0\n",
       "customer_id         0\n",
       "surname             0\n",
       "credit_score        0\n",
       "geography           0\n",
       "gender              0\n",
       "age                 0\n",
       "tenure              0\n",
       "balance             0\n",
       "num_of_products     0\n",
       "has_cr_card         0\n",
       "is_active_member    0\n",
       "estimated_salary    0\n",
       "exited              0\n",
       "dtype: int64"
      ]
     },
     "execution_count": 9,
     "metadata": {},
     "output_type": "execute_result"
    }
   ],
   "source": [
    "data.isna().sum()"
   ]
  },
  {
   "cell_type": "markdown",
   "id": "8274488c",
   "metadata": {},
   "source": [
    "Пропусков в данных больше нет, проверим теперь есть ли у нас дубликаты в данных:"
   ]
  },
  {
   "cell_type": "code",
   "execution_count": 10,
   "id": "9ffe95db",
   "metadata": {},
   "outputs": [
    {
     "data": {
      "text/plain": [
       "0"
      ]
     },
     "execution_count": 10,
     "metadata": {},
     "output_type": "execute_result"
    }
   ],
   "source": [
    "data.duplicated().sum()"
   ]
  },
  {
   "cell_type": "markdown",
   "id": "8751596f",
   "metadata": {},
   "source": [
    "Явных дубликатов нет, проверим теперь есть ли у нас неявные дубликаты, начнем со столбца `surname`— *фамилия*, проверим какие есть уникальные значения в этом столбце. Так как фамилий может быть большое количество, то сначала посчитаем количество уникальных фамилий, так как они выглядят в датасете, а потом приведем их к нижнему регистру и посчитаем еще раз количество уникальных фамилий:"
   ]
  },
  {
   "cell_type": "code",
   "execution_count": 11,
   "id": "658af46d",
   "metadata": {},
   "outputs": [
    {
     "name": "stdout",
     "output_type": "stream",
     "text": [
      "Количество уникальных фамилий 2787\n",
      "Количество уникальных фамилий в нижнем регистре 2786\n"
     ]
    }
   ],
   "source": [
    "print('Количество уникальных фамилий', data['surname'].nunique())\n",
    "print('Количество уникальных фамилий в нижнем регистре', data['surname'].str.lower().nunique())"
   ]
  },
  {
   "cell_type": "markdown",
   "id": "68db1915",
   "metadata": {},
   "source": [
    "В столбце с фамилиями оказалось одно значение, которое записано в разных регистрах, преобразуем все значения в столбце с фамилиями в нижний регистр, чтобы избавиться от неявного дубликата:"
   ]
  },
  {
   "cell_type": "code",
   "execution_count": 12,
   "id": "d383f77c",
   "metadata": {},
   "outputs": [],
   "source": [
    "data['surname'] = data['surname'].str.lower()"
   ]
  },
  {
   "cell_type": "markdown",
   "id": "39515234",
   "metadata": {},
   "source": [
    "Посмотрим теперь какие уникальные значения есть в столбцах `geography` — *страна проживания* и `gender`— *пол*:"
   ]
  },
  {
   "cell_type": "code",
   "execution_count": 13,
   "id": "05a77dfc",
   "metadata": {},
   "outputs": [
    {
     "name": "stdout",
     "output_type": "stream",
     "text": [
      "['France' 'Spain' 'Germany']\n",
      "['Female' 'Male']\n"
     ]
    }
   ],
   "source": [
    "print(data['geography'].unique())\n",
    "print(data['gender'].unique())"
   ]
  },
  {
   "cell_type": "markdown",
   "id": "427a4a89",
   "metadata": {},
   "source": [
    "Дубликатов в значениях нет, эти столбцы можно не изменять, мы убедились, что нет одних и тех же значений в разном регистре. Проверять дубликаты в паре столбцов, например, фамилия и страна или фамилия и пол, не будем, так как в одной или в нескольких странах люди могут быть с одинаковыми фамилиями и полом.\n",
    "В остальных столбцах обработку дубликатов делать не будем, так как они числовые и там естественно присутствие дублирующих значений.\n",
    "\n",
    "Мы сделали подготовку данных можем теперь переходить к обучению моделей для решения нашей задачи."
   ]
  },
  {
   "cell_type": "markdown",
   "id": "f9c6bf3f",
   "metadata": {},
   "source": [
    "## Исследование задачи"
   ]
  },
  {
   "cell_type": "markdown",
   "id": "037c3fb0",
   "metadata": {},
   "source": [
    "Прежде, чем разделить данные на выборки, уберем из датасета те столбцы, которые нам не пригодятся в обучении модели — это столбцы:\n",
    "- `row_number` — *индекс строки в данных*;\n",
    "- `customer_id` — *уникальный идентификатор клиента*;\n",
    "- `surname` — *фамилия*.\n",
    "\n",
    "Первые два столбца можно сказать, что они технические, не несут никакой смысловой нагрузки и не дают о человеке никакой информации как о клиенте банка. Со столбцом с фамилиями, точно такая ситуация, это конечно не технический столбец, в котором перечисляют порядковый номер строк, он нам предоставляют некую информацию о человеке, но он нам не предоставляет информацию об этом человеке как о клиенте банка, поэтому этот столбец мы тоже убираем из данных: "
   ]
  },
  {
   "cell_type": "code",
   "execution_count": 14,
   "id": "392dc20d",
   "metadata": {},
   "outputs": [
    {
     "data": {
      "text/html": [
       "<div>\n",
       "<style scoped>\n",
       "    .dataframe tbody tr th:only-of-type {\n",
       "        vertical-align: middle;\n",
       "    }\n",
       "\n",
       "    .dataframe tbody tr th {\n",
       "        vertical-align: top;\n",
       "    }\n",
       "\n",
       "    .dataframe thead th {\n",
       "        text-align: right;\n",
       "    }\n",
       "</style>\n",
       "<table border=\"1\" class=\"dataframe\">\n",
       "  <thead>\n",
       "    <tr style=\"text-align: right;\">\n",
       "      <th></th>\n",
       "      <th>credit_score</th>\n",
       "      <th>geography</th>\n",
       "      <th>gender</th>\n",
       "      <th>age</th>\n",
       "      <th>tenure</th>\n",
       "      <th>balance</th>\n",
       "      <th>num_of_products</th>\n",
       "      <th>has_cr_card</th>\n",
       "      <th>is_active_member</th>\n",
       "      <th>estimated_salary</th>\n",
       "      <th>exited</th>\n",
       "    </tr>\n",
       "  </thead>\n",
       "  <tbody>\n",
       "    <tr>\n",
       "      <th>0</th>\n",
       "      <td>619</td>\n",
       "      <td>France</td>\n",
       "      <td>Female</td>\n",
       "      <td>42</td>\n",
       "      <td>2.0</td>\n",
       "      <td>0.00</td>\n",
       "      <td>1</td>\n",
       "      <td>1</td>\n",
       "      <td>1</td>\n",
       "      <td>101348.88</td>\n",
       "      <td>1</td>\n",
       "    </tr>\n",
       "    <tr>\n",
       "      <th>1</th>\n",
       "      <td>608</td>\n",
       "      <td>Spain</td>\n",
       "      <td>Female</td>\n",
       "      <td>41</td>\n",
       "      <td>1.0</td>\n",
       "      <td>83807.86</td>\n",
       "      <td>1</td>\n",
       "      <td>0</td>\n",
       "      <td>1</td>\n",
       "      <td>112542.58</td>\n",
       "      <td>0</td>\n",
       "    </tr>\n",
       "    <tr>\n",
       "      <th>2</th>\n",
       "      <td>502</td>\n",
       "      <td>France</td>\n",
       "      <td>Female</td>\n",
       "      <td>42</td>\n",
       "      <td>8.0</td>\n",
       "      <td>159660.80</td>\n",
       "      <td>3</td>\n",
       "      <td>1</td>\n",
       "      <td>0</td>\n",
       "      <td>113931.57</td>\n",
       "      <td>1</td>\n",
       "    </tr>\n",
       "    <tr>\n",
       "      <th>3</th>\n",
       "      <td>699</td>\n",
       "      <td>France</td>\n",
       "      <td>Female</td>\n",
       "      <td>39</td>\n",
       "      <td>1.0</td>\n",
       "      <td>0.00</td>\n",
       "      <td>2</td>\n",
       "      <td>0</td>\n",
       "      <td>0</td>\n",
       "      <td>93826.63</td>\n",
       "      <td>0</td>\n",
       "    </tr>\n",
       "    <tr>\n",
       "      <th>4</th>\n",
       "      <td>850</td>\n",
       "      <td>Spain</td>\n",
       "      <td>Female</td>\n",
       "      <td>43</td>\n",
       "      <td>2.0</td>\n",
       "      <td>125510.82</td>\n",
       "      <td>1</td>\n",
       "      <td>1</td>\n",
       "      <td>1</td>\n",
       "      <td>79084.10</td>\n",
       "      <td>0</td>\n",
       "    </tr>\n",
       "  </tbody>\n",
       "</table>\n",
       "</div>"
      ],
      "text/plain": [
       "   credit_score geography  gender  age  tenure    balance  num_of_products  \\\n",
       "0           619    France  Female   42     2.0       0.00                1   \n",
       "1           608     Spain  Female   41     1.0   83807.86                1   \n",
       "2           502    France  Female   42     8.0  159660.80                3   \n",
       "3           699    France  Female   39     1.0       0.00                2   \n",
       "4           850     Spain  Female   43     2.0  125510.82                1   \n",
       "\n",
       "   has_cr_card  is_active_member  estimated_salary  exited  \n",
       "0            1                 1         101348.88       1  \n",
       "1            0                 1         112542.58       0  \n",
       "2            1                 0         113931.57       1  \n",
       "3            0                 0          93826.63       0  \n",
       "4            1                 1          79084.10       0  "
      ]
     },
     "execution_count": 14,
     "metadata": {},
     "output_type": "execute_result"
    }
   ],
   "source": [
    "data = data.drop(['row_number', 'customer_id', 'surname'], axis=1)\n",
    "data.head()"
   ]
  },
  {
   "cell_type": "markdown",
   "id": "ba02233b",
   "metadata": {},
   "source": [
    "Так как у нас есть категориальные признаки, то необходимо их преобразовать в числовые, для этого воспользуемся техникой **прямого кодирования**, то есть **OHE**. Чтобы применить **OHE** на наших данных, воспользуемся методом `get_dummies` из библиотеки `pandas`, при вызове метода для аргумента **drop_first** укажем значение **True**, чтобы не создавать лишние категории и не угодить в ловушку фиктивных признаков. Метод будет использовать только на двух столбцах с категориальными признаками `gender` — *пол* и `geography` — *страна проживания*, на остальных столбцах метод использовать не будем, так как в этих столбцах признаки количественные, либо уже обрабротаны техникой **прямого кодирования**, например как столбец `exited`, который содержит следующие значения (1 — клиент ушел, 0 — клиент остался)."
   ]
  },
  {
   "cell_type": "code",
   "execution_count": 15,
   "id": "06d08c10",
   "metadata": {},
   "outputs": [],
   "source": [
    "data_ohe = pd.get_dummies(data, columns=['gender', 'geography'], drop_first=True)"
   ]
  },
  {
   "cell_type": "markdown",
   "id": "fcfa938b",
   "metadata": {},
   "source": [
    "Предобработку данных сделали, лишние столбцы убрали, категориальные признаки преобразовали, можно переходить к разделению данных на выборки для обучения моделей машинного обучения. Разобьем данные на три выборки — обучащая **60%**, валидационная **20%** и тестовая **20%**, для этого воспользуемся методом `train_test_split` из библиотеки `sklearn`."
   ]
  },
  {
   "cell_type": "code",
   "execution_count": 16,
   "id": "dabd2669",
   "metadata": {},
   "outputs": [
    {
     "name": "stdout",
     "output_type": "stream",
     "text": [
      "(5454, 12)\n",
      "(1818, 12)\n",
      "(1819, 12)\n"
     ]
    }
   ],
   "source": [
    "data_train, data_valid = train_test_split(data_ohe, test_size=0.4, random_state=12345)\n",
    "data_valid, data_test = train_test_split(data_valid, test_size=0.5, random_state=12345)\n",
    "print(data_train.shape)\n",
    "print(data_valid.shape)\n",
    "print(data_test.shape)"
   ]
  },
  {
   "cell_type": "markdown",
   "id": "bd692da7",
   "metadata": {},
   "source": [
    "По размерности видно, что выборки разделились, теперь выбирем из данных признаки и что необходимо предсказать. В задание указано, что нужно **построить модель, которая предскажет уйдет ли клиент из банка в ближайшее время или нет**. Факт ухода клиента указан в столбце `exited` (1 — клиент ушел, 0 — клиент остался), это будет целевой признак, который нам необходимо будет предсказать, а все остальные столбцы вынесем в признаки по которым будем предсказывать целевой признак."
   ]
  },
  {
   "cell_type": "code",
   "execution_count": 17,
   "id": "c589e623",
   "metadata": {},
   "outputs": [],
   "source": [
    "data_train_features = data_train.drop(['exited'], axis=1)\n",
    "data_train_target = data_train['exited']\n",
    "\n",
    "data_valid_features = data_valid.drop(['exited'], axis=1)\n",
    "data_valid_target = data_valid['exited']\n",
    "\n",
    "data_test_features = data_test.drop(['exited'], axis=1)\n",
    "data_test_target = data_test['exited']"
   ]
  },
  {
   "cell_type": "markdown",
   "id": "bb29b918",
   "metadata": {},
   "source": [
    "Так как у нас данных присуствуют количественные признаки с разным разбросом значений, например, столбцы:\n",
    "- `age` — возраст;\n",
    "- `balance` — баланс на счёте.\n",
    "\n",
    "Очевидно, что значения баланса баланса на счёте, может сильно превышать значения возраста клиента и соответстенно разброс значений у столбца с балансом счёта будет больше, чем у столбца с возрастом, в таком случае алгорим может решить, что признаки с большими значениями и разбросом важнее. Чтобы избежать этой ловушки, признаки масштабируются — приводятся к одному масштабу. Один из методов масштабирования — **стандартизации данных**, примением его на наших данных, для этого воспользуемся структурой *StandardScaler* из библиотеки `sklearn`."
   ]
  },
  {
   "cell_type": "code",
   "execution_count": 18,
   "id": "5da19943",
   "metadata": {},
   "outputs": [],
   "source": [
    "scaler = StandardScaler()\n",
    "columns_names = data_train_features.columns\n",
    "scaler.fit(data_train_features[columns_names])\n",
    "\n",
    "data_train_features[columns_names] = scaler.transform(data_train_features[columns_names])\n",
    "data_valid_features[columns_names] = scaler.transform(data_valid_features[columns_names])\n",
    "data_test_features[columns_names] = scaler.transform(data_test_features[columns_names])"
   ]
  },
  {
   "cell_type": "markdown",
   "id": "92b75907",
   "metadata": {},
   "source": [
    "Возьмем для решения нашей задачи несколько моделей машинного обучения — **Дерево решений**, **Случайный лес**, **Логистическая регрессия** и переберем в них гиперпараметры, чтобы найти лучшую модель для решения нашей задачи. Для оценок моделей будем использовать метрики *accuracy*, *AUC-ROC* и *F1*-меру.\n",
    "\n",
    "Начнем с модели **Дерево решений**. \n",
    "Для начала напишем функцию, в которой будем перебирать гиперпараметры для поиска наилучшей модели, для определения лучшей модели будем использовать метрику *F1*-мера:"
   ]
  },
  {
   "cell_type": "code",
   "execution_count": 19,
   "id": "595c7e04",
   "metadata": {},
   "outputs": [],
   "source": [
    "def get_best_model_tree(features, target, valid_features, valid_target, val_class_weight):\n",
    "    '''\n",
    "    Функция перебирает гиперпараметры у модели Дерево решений для поиска наилучшей модели\n",
    "    '''\n",
    "    best_result_model_tree = 0\n",
    "    best_max_depth = 0\n",
    "    best_model_tree = None\n",
    "    \n",
    "    for depth in range(1, 11):\n",
    "        model_tree = DecisionTreeClassifier(random_state=12345, max_depth=depth, class_weight=val_class_weight)\n",
    "        model_tree.fit(data_train_features, data_train_target)\n",
    "        predictions_tree = model_tree.predict(data_valid_features)\n",
    "        result_tree = f1_score(data_valid_target, predictions_tree)\n",
    "\n",
    "        if result_tree > best_result_model_tree:\n",
    "            best_result_model_tree = result_tree\n",
    "            best_max_depth = depth\n",
    "            best_model_tree = model_tree\n",
    "\n",
    "    print('best_max_depth', best_max_depth, 'f1_score:', best_result_model_tree)\n",
    "    return best_model_tree"
   ]
  },
  {
   "cell_type": "code",
   "execution_count": 20,
   "id": "1f98ef0c",
   "metadata": {},
   "outputs": [
    {
     "name": "stdout",
     "output_type": "stream",
     "text": [
      "best_max_depth 7 f1_score: 0.5773524720893142\n"
     ]
    }
   ],
   "source": [
    "best_model_tree = get_best_model_tree(data_train_features, data_train_target, data_valid_features, data_valid_target, None)"
   ]
  },
  {
   "cell_type": "markdown",
   "id": "97cfacac",
   "metadata": {},
   "source": [
    "Максимальное значение по метрике *F1*-мере достигается при глубине дерева равное **7** и равна **0.57**, проверим нашу модель на остальных метриках *accuracy* и *AUC-ROC*. Для начала напишем функцию, которая будет записывать полученные значения по метрикам в небольшую таблицу для того чтобы было проще их сравнивать между собой и модель у нас будет не одна. Также напишем отдельную функцию, которая будет рассчитывать различные метрики для оценки качества моделей:"
   ]
  },
  {
   "cell_type": "code",
   "execution_count": 21,
   "id": "612421d6",
   "metadata": {},
   "outputs": [],
   "source": [
    "def fill_metrics_score(metrics, index, model_name, val_accuracy_score, val_roc_auc_score, val_f1_score):\n",
    "    '''\n",
    "    Функция записывает полученные метрики по моделям в таблицу\n",
    "    '''\n",
    "    metrics.loc[index, 'model'] = model_name\n",
    "    metrics.loc[index, 'accuracy'] = val_accuracy_score\n",
    "    metrics.loc[index, 'roc_auc_score'] = val_roc_auc_score\n",
    "    metrics.loc[index, 'f1_score'] = val_f1_score\n",
    "    return metrics"
   ]
  },
  {
   "cell_type": "code",
   "execution_count": 22,
   "id": "65eadee0",
   "metadata": {},
   "outputs": [],
   "source": [
    "def calc_metrics_model(model, model_name, features_valid, target_valid, metrics_info):\n",
    "    '''\n",
    "    Функция рассчитывает метрики у обученной модели и записывает их в таблицу\n",
    "    '''\n",
    "    predictions_model = model.predict(features_valid)\n",
    "    probabilities_valid = model.predict_proba(features_valid)\n",
    "    probabilities_one_valid = probabilities_valid[:, 1]\n",
    "    metrics_info = fill_metrics_score(metrics_models, len(metrics_models), model_name,\n",
    "                                   accuracy_score(target_valid, predictions_model),\n",
    "                                   roc_auc_score(target_valid, probabilities_one_valid),\n",
    "                                   f1_score(target_valid, predictions_model))\n",
    "    \n",
    "    return metrics_info"
   ]
  },
  {
   "cell_type": "code",
   "execution_count": 23,
   "id": "5c09ae09",
   "metadata": {},
   "outputs": [
    {
     "data": {
      "text/html": [
       "<div>\n",
       "<style scoped>\n",
       "    .dataframe tbody tr th:only-of-type {\n",
       "        vertical-align: middle;\n",
       "    }\n",
       "\n",
       "    .dataframe tbody tr th {\n",
       "        vertical-align: top;\n",
       "    }\n",
       "\n",
       "    .dataframe thead th {\n",
       "        text-align: right;\n",
       "    }\n",
       "</style>\n",
       "<table border=\"1\" class=\"dataframe\">\n",
       "  <thead>\n",
       "    <tr style=\"text-align: right;\">\n",
       "      <th></th>\n",
       "      <th>model</th>\n",
       "      <th>accuracy</th>\n",
       "      <th>roc_auc_score</th>\n",
       "      <th>f1_score</th>\n",
       "    </tr>\n",
       "  </thead>\n",
       "  <tbody>\n",
       "    <tr>\n",
       "      <th>0</th>\n",
       "      <td>DecisionTreeClassifier</td>\n",
       "      <td>0.854235</td>\n",
       "      <td>0.835244</td>\n",
       "      <td>0.577352</td>\n",
       "    </tr>\n",
       "  </tbody>\n",
       "</table>\n",
       "</div>"
      ],
      "text/plain": [
       "                    model  accuracy  roc_auc_score  f1_score\n",
       "0  DecisionTreeClassifier  0.854235       0.835244  0.577352"
      ]
     },
     "execution_count": 23,
     "metadata": {},
     "output_type": "execute_result"
    }
   ],
   "source": [
    "metrics_models = pd.DataFrame({'model': [], 'accuracy': [], 'roc_auc_score': [], 'f1_score': []})\n",
    "metrics_models = calc_metrics_model(best_model_tree, 'DecisionTreeClassifier', data_valid_features, \n",
    "                                    data_valid_target, metrics_models)\n",
    "metrics_models"
   ]
  },
  {
   "cell_type": "markdown",
   "id": "ee274166",
   "metadata": {},
   "source": [
    "Хоть метрика *accuracy* показала качество модели равное почти **0.85**, метрика *F1*-меры, которая включает в себя полноту и точность, показывает качество модели равное всего **0.57**, это сильно меньше чем у метрики *accuracy*.\n",
    "\n",
    "Посмотрим теперь как с нашей задачей справится модель **Случайного леса:**\n",
    "Как с моделью **Дерево решений**, напишем функцию по перебору гиперпараметров для модели **Случайный лес**:"
   ]
  },
  {
   "cell_type": "code",
   "execution_count": 24,
   "id": "b795bcf9",
   "metadata": {},
   "outputs": [],
   "source": [
    "def get_best_model_randomforest(features, target, valid_features, valid_target, val_class_weight):\n",
    "    '''\n",
    "    Функция перебирает гиперпараметры у модели Случайный лес для поиска наилучшей модели\n",
    "    '''\n",
    "    best_result_randomforest = 0\n",
    "    best_max_depth = 0\n",
    "    best_est = 0\n",
    "    best_model_model_randomforest = None\n",
    "    \n",
    "    for depth in range(1, 11, 1):\n",
    "        for est in range(10, 101, 10):\n",
    "            model_randomforest = RandomForestClassifier(max_depth=depth, n_estimators=est, class_weight=val_class_weight)\n",
    "            model_randomforest.fit(data_train_features, data_train_target)\n",
    "            predictions_randomforest = model_randomforest.predict(data_valid_features)\n",
    "            result_randomforest = f1_score(data_valid_target, predictions_randomforest)\n",
    "\n",
    "            if result_randomforest > best_result_randomforest:\n",
    "                best_result_randomforest = result_randomforest\n",
    "                best_max_depth = depth\n",
    "                best_est = est\n",
    "                best_model_model_randomforest = model_randomforest\n",
    "\n",
    "    print('best_est', best_est, 'best_max_depth', best_max_depth, 'f1_score:', best_result_randomforest)\n",
    "    return best_model_model_randomforest"
   ]
  },
  {
   "cell_type": "code",
   "execution_count": 25,
   "id": "2e0470d5",
   "metadata": {},
   "outputs": [
    {
     "name": "stdout",
     "output_type": "stream",
     "text": [
      "best_est 20 best_max_depth 10 f1_score: 0.5854483925549915\n"
     ]
    }
   ],
   "source": [
    "best_model_randomforest = get_best_model_randomforest(data_train_features, data_train_target, data_valid_features, \n",
    "                                                      data_valid_target, None)"
   ]
  },
  {
   "cell_type": "markdown",
   "id": "3b034eed",
   "metadata": {},
   "source": [
    "Максимальное значение по метрике *F1*-меры достигается при количестве деревьев равное **20** и глубине деревьев равное **10** и равно **0.58**, проверим эту модель с такими гиперпараметрами с помощью метрик *AUC-ROC* и *accuracy*:"
   ]
  },
  {
   "cell_type": "code",
   "execution_count": 26,
   "id": "5af26f0d",
   "metadata": {},
   "outputs": [
    {
     "data": {
      "text/html": [
       "<div>\n",
       "<style scoped>\n",
       "    .dataframe tbody tr th:only-of-type {\n",
       "        vertical-align: middle;\n",
       "    }\n",
       "\n",
       "    .dataframe tbody tr th {\n",
       "        vertical-align: top;\n",
       "    }\n",
       "\n",
       "    .dataframe thead th {\n",
       "        text-align: right;\n",
       "    }\n",
       "</style>\n",
       "<table border=\"1\" class=\"dataframe\">\n",
       "  <thead>\n",
       "    <tr style=\"text-align: right;\">\n",
       "      <th></th>\n",
       "      <th>model</th>\n",
       "      <th>accuracy</th>\n",
       "      <th>roc_auc_score</th>\n",
       "      <th>f1_score</th>\n",
       "    </tr>\n",
       "  </thead>\n",
       "  <tbody>\n",
       "    <tr>\n",
       "      <th>0</th>\n",
       "      <td>DecisionTreeClassifier</td>\n",
       "      <td>0.854235</td>\n",
       "      <td>0.835244</td>\n",
       "      <td>0.577352</td>\n",
       "    </tr>\n",
       "    <tr>\n",
       "      <th>1</th>\n",
       "      <td>RandomForestClassifier</td>\n",
       "      <td>0.865237</td>\n",
       "      <td>0.857935</td>\n",
       "      <td>0.585448</td>\n",
       "    </tr>\n",
       "  </tbody>\n",
       "</table>\n",
       "</div>"
      ],
      "text/plain": [
       "                    model  accuracy  roc_auc_score  f1_score\n",
       "0  DecisionTreeClassifier  0.854235       0.835244  0.577352\n",
       "1  RandomForestClassifier  0.865237       0.857935  0.585448"
      ]
     },
     "execution_count": 26,
     "metadata": {},
     "output_type": "execute_result"
    }
   ],
   "source": [
    "metrics_models = calc_metrics_model(best_model_randomforest, 'RandomForestClassifier', data_valid_features, \n",
    "                                    data_valid_target, metrics_models)\n",
    "metrics_models"
   ]
  },
  {
   "cell_type": "markdown",
   "id": "e8251e6e",
   "metadata": {},
   "source": [
    "Модель **Случайного леса** по метрике *accuracy* показывает качество модели равное почти **0.86**, однако по метрике *F1*-мера качество модели равно почти **0.57**, качество сильно падает как и у модели **Дерево решений**.\n",
    "\n",
    "Проверим ещё модель **Логистической регрессии**, может обучив её, мы получим оптимальное качество модели по всем метрикам:"
   ]
  },
  {
   "cell_type": "code",
   "execution_count": 27,
   "id": "3d80a6ad",
   "metadata": {},
   "outputs": [
    {
     "name": "stdout",
     "output_type": "stream",
     "text": [
      "accuracy_score: 0.8080308030803081\n"
     ]
    }
   ],
   "source": [
    "model_logistic = LogisticRegression(random_state=12345, solver='lbfgs', max_iter=1000)\n",
    "model_logistic.fit(data_train_features, data_train_target)\n",
    "predictions_logistic = model_logistic.predict(data_valid_features)\n",
    "\n",
    "print('accuracy_score:', accuracy_score(data_valid_target, predictions_logistic))"
   ]
  },
  {
   "cell_type": "markdown",
   "id": "99e3b478",
   "metadata": {},
   "source": [
    "По метрике *accuracy* качество модели равно **0.80**, проверим теперь модель с помощью метрик *AUC-ROC* и *F1*-меры:"
   ]
  },
  {
   "cell_type": "code",
   "execution_count": 28,
   "id": "b1db0d5d",
   "metadata": {},
   "outputs": [
    {
     "data": {
      "text/html": [
       "<div>\n",
       "<style scoped>\n",
       "    .dataframe tbody tr th:only-of-type {\n",
       "        vertical-align: middle;\n",
       "    }\n",
       "\n",
       "    .dataframe tbody tr th {\n",
       "        vertical-align: top;\n",
       "    }\n",
       "\n",
       "    .dataframe thead th {\n",
       "        text-align: right;\n",
       "    }\n",
       "</style>\n",
       "<table border=\"1\" class=\"dataframe\">\n",
       "  <thead>\n",
       "    <tr style=\"text-align: right;\">\n",
       "      <th></th>\n",
       "      <th>model</th>\n",
       "      <th>accuracy</th>\n",
       "      <th>roc_auc_score</th>\n",
       "      <th>f1_score</th>\n",
       "    </tr>\n",
       "  </thead>\n",
       "  <tbody>\n",
       "    <tr>\n",
       "      <th>0</th>\n",
       "      <td>DecisionTreeClassifier</td>\n",
       "      <td>0.854235</td>\n",
       "      <td>0.835244</td>\n",
       "      <td>0.577352</td>\n",
       "    </tr>\n",
       "    <tr>\n",
       "      <th>1</th>\n",
       "      <td>RandomForestClassifier</td>\n",
       "      <td>0.865237</td>\n",
       "      <td>0.857935</td>\n",
       "      <td>0.585448</td>\n",
       "    </tr>\n",
       "    <tr>\n",
       "      <th>2</th>\n",
       "      <td>LogisticRegression</td>\n",
       "      <td>0.808031</td>\n",
       "      <td>0.773617</td>\n",
       "      <td>0.303393</td>\n",
       "    </tr>\n",
       "  </tbody>\n",
       "</table>\n",
       "</div>"
      ],
      "text/plain": [
       "                    model  accuracy  roc_auc_score  f1_score\n",
       "0  DecisionTreeClassifier  0.854235       0.835244  0.577352\n",
       "1  RandomForestClassifier  0.865237       0.857935  0.585448\n",
       "2      LogisticRegression  0.808031       0.773617  0.303393"
      ]
     },
     "execution_count": 28,
     "metadata": {},
     "output_type": "execute_result"
    }
   ],
   "source": [
    "metrics_models = calc_metrics_model(model_logistic, 'LogisticRegression', data_valid_features, data_valid_target, \n",
    "                                    metrics_models)\n",
    "metrics_models"
   ]
  },
  {
   "cell_type": "markdown",
   "id": "b35e04bc",
   "metadata": {},
   "source": [
    "Модели **Логистической регрессии** оказалась самой плохой по сравнению с другими моделями, хоть по метрике *accuracy* качество модели равно **0.80**, однако по метрике *F1*-мера качество очень сильно падает и равно всего **0.30**, данная модель предсказывает очень мало правильных ответов.\n",
    "\n",
    "Плохие показатели по метрике *F1*-мера скорей всего связаны с тем, что у нас в данных не сбалисированные классы, а наши модели, которые мы обучили считают, что у нас все классы равнозначные между собой, даже те, которые встречаются редко."
   ]
  },
  {
   "cell_type": "markdown",
   "id": "160bff44",
   "metadata": {},
   "source": [
    "## Борьба с дисбалансом"
   ]
  },
  {
   "cell_type": "markdown",
   "id": "2aefb386",
   "metadata": {},
   "source": [
    "Для того чтобы избавить от проблемы дисбаланса классов попробуем их сбалансировать, как раз у тех моделей машинного обучения, чтобы мы обучили ранее, есть аргумент *class_weight*, если указать `class_weight='balanced'` алгоритм посчитает, во сколько раз один класс встречается чаще другого класса и присвоет больший вес редкому классу.\n",
    "\n",
    "Обучим наши модели **Дерево решений**, **Случайный лес**, **Логистическая регрессия** с указанием аргумента `class_weight='balanced'` и посмотрим какие будут значения у метрик *accuracy*, *AUC-ROC* и *F1*-меры."
   ]
  },
  {
   "cell_type": "code",
   "execution_count": 29,
   "id": "683b4be0",
   "metadata": {},
   "outputs": [
    {
     "name": "stdout",
     "output_type": "stream",
     "text": [
      "best_max_depth 5 f1_score: 0.5735449735449736\n"
     ]
    },
    {
     "data": {
      "text/html": [
       "<div>\n",
       "<style scoped>\n",
       "    .dataframe tbody tr th:only-of-type {\n",
       "        vertical-align: middle;\n",
       "    }\n",
       "\n",
       "    .dataframe tbody tr th {\n",
       "        vertical-align: top;\n",
       "    }\n",
       "\n",
       "    .dataframe thead th {\n",
       "        text-align: right;\n",
       "    }\n",
       "</style>\n",
       "<table border=\"1\" class=\"dataframe\">\n",
       "  <thead>\n",
       "    <tr style=\"text-align: right;\">\n",
       "      <th></th>\n",
       "      <th>model</th>\n",
       "      <th>accuracy</th>\n",
       "      <th>roc_auc_score</th>\n",
       "      <th>f1_score</th>\n",
       "    </tr>\n",
       "  </thead>\n",
       "  <tbody>\n",
       "    <tr>\n",
       "      <th>0</th>\n",
       "      <td>DecisionTreeClassifier</td>\n",
       "      <td>0.854235</td>\n",
       "      <td>0.835244</td>\n",
       "      <td>0.577352</td>\n",
       "    </tr>\n",
       "    <tr>\n",
       "      <th>1</th>\n",
       "      <td>RandomForestClassifier</td>\n",
       "      <td>0.865237</td>\n",
       "      <td>0.857935</td>\n",
       "      <td>0.585448</td>\n",
       "    </tr>\n",
       "    <tr>\n",
       "      <th>2</th>\n",
       "      <td>LogisticRegression</td>\n",
       "      <td>0.808031</td>\n",
       "      <td>0.773617</td>\n",
       "      <td>0.303393</td>\n",
       "    </tr>\n",
       "    <tr>\n",
       "      <th>3</th>\n",
       "      <td>DecisionTreeClassifier_class_weight</td>\n",
       "      <td>0.778328</td>\n",
       "      <td>0.839652</td>\n",
       "      <td>0.573545</td>\n",
       "    </tr>\n",
       "  </tbody>\n",
       "</table>\n",
       "</div>"
      ],
      "text/plain": [
       "                                 model  accuracy  roc_auc_score  f1_score\n",
       "0               DecisionTreeClassifier  0.854235       0.835244  0.577352\n",
       "1               RandomForestClassifier  0.865237       0.857935  0.585448\n",
       "2                   LogisticRegression  0.808031       0.773617  0.303393\n",
       "3  DecisionTreeClassifier_class_weight  0.778328       0.839652  0.573545"
      ]
     },
     "execution_count": 29,
     "metadata": {},
     "output_type": "execute_result"
    }
   ],
   "source": [
    "model_tree_class_weight = get_best_model_tree(data_train_features, data_train_target, data_valid_features, data_valid_target, \n",
    "                                              'balanced')\n",
    "metrics_models = calc_metrics_model(model_tree_class_weight, 'DecisionTreeClassifier_class_weight', data_valid_features, \n",
    "                                    data_valid_target, metrics_models)\n",
    "metrics_models"
   ]
  },
  {
   "cell_type": "code",
   "execution_count": 30,
   "id": "21fa2214",
   "metadata": {},
   "outputs": [
    {
     "name": "stdout",
     "output_type": "stream",
     "text": [
      "best_est 50 best_max_depth 9 f1_score: 0.6458072590738423\n"
     ]
    },
    {
     "data": {
      "text/html": [
       "<div>\n",
       "<style scoped>\n",
       "    .dataframe tbody tr th:only-of-type {\n",
       "        vertical-align: middle;\n",
       "    }\n",
       "\n",
       "    .dataframe tbody tr th {\n",
       "        vertical-align: top;\n",
       "    }\n",
       "\n",
       "    .dataframe thead th {\n",
       "        text-align: right;\n",
       "    }\n",
       "</style>\n",
       "<table border=\"1\" class=\"dataframe\">\n",
       "  <thead>\n",
       "    <tr style=\"text-align: right;\">\n",
       "      <th></th>\n",
       "      <th>model</th>\n",
       "      <th>accuracy</th>\n",
       "      <th>roc_auc_score</th>\n",
       "      <th>f1_score</th>\n",
       "    </tr>\n",
       "  </thead>\n",
       "  <tbody>\n",
       "    <tr>\n",
       "      <th>0</th>\n",
       "      <td>DecisionTreeClassifier</td>\n",
       "      <td>0.854235</td>\n",
       "      <td>0.835244</td>\n",
       "      <td>0.577352</td>\n",
       "    </tr>\n",
       "    <tr>\n",
       "      <th>1</th>\n",
       "      <td>RandomForestClassifier</td>\n",
       "      <td>0.865237</td>\n",
       "      <td>0.857935</td>\n",
       "      <td>0.585448</td>\n",
       "    </tr>\n",
       "    <tr>\n",
       "      <th>2</th>\n",
       "      <td>LogisticRegression</td>\n",
       "      <td>0.808031</td>\n",
       "      <td>0.773617</td>\n",
       "      <td>0.303393</td>\n",
       "    </tr>\n",
       "    <tr>\n",
       "      <th>3</th>\n",
       "      <td>DecisionTreeClassifier_class_weight</td>\n",
       "      <td>0.778328</td>\n",
       "      <td>0.839652</td>\n",
       "      <td>0.573545</td>\n",
       "    </tr>\n",
       "    <tr>\n",
       "      <th>4</th>\n",
       "      <td>RandomForestClassifier_class_weight</td>\n",
       "      <td>0.844334</td>\n",
       "      <td>0.871136</td>\n",
       "      <td>0.645807</td>\n",
       "    </tr>\n",
       "  </tbody>\n",
       "</table>\n",
       "</div>"
      ],
      "text/plain": [
       "                                 model  accuracy  roc_auc_score  f1_score\n",
       "0               DecisionTreeClassifier  0.854235       0.835244  0.577352\n",
       "1               RandomForestClassifier  0.865237       0.857935  0.585448\n",
       "2                   LogisticRegression  0.808031       0.773617  0.303393\n",
       "3  DecisionTreeClassifier_class_weight  0.778328       0.839652  0.573545\n",
       "4  RandomForestClassifier_class_weight  0.844334       0.871136  0.645807"
      ]
     },
     "execution_count": 30,
     "metadata": {},
     "output_type": "execute_result"
    }
   ],
   "source": [
    "model_randomforest_class_weight = get_best_model_randomforest(data_train_features, data_train_target, data_valid_features, \n",
    "                                                              data_valid_target, 'balanced')\n",
    "metrics_models = calc_metrics_model(model_randomforest_class_weight, 'RandomForestClassifier_class_weight', \n",
    "                                    data_valid_features, data_valid_target, metrics_models)\n",
    "metrics_models"
   ]
  },
  {
   "cell_type": "code",
   "execution_count": 31,
   "id": "3bddd5b0",
   "metadata": {},
   "outputs": [
    {
     "data": {
      "text/html": [
       "<div>\n",
       "<style scoped>\n",
       "    .dataframe tbody tr th:only-of-type {\n",
       "        vertical-align: middle;\n",
       "    }\n",
       "\n",
       "    .dataframe tbody tr th {\n",
       "        vertical-align: top;\n",
       "    }\n",
       "\n",
       "    .dataframe thead th {\n",
       "        text-align: right;\n",
       "    }\n",
       "</style>\n",
       "<table border=\"1\" class=\"dataframe\">\n",
       "  <thead>\n",
       "    <tr style=\"text-align: right;\">\n",
       "      <th></th>\n",
       "      <th>model</th>\n",
       "      <th>accuracy</th>\n",
       "      <th>roc_auc_score</th>\n",
       "      <th>f1_score</th>\n",
       "    </tr>\n",
       "  </thead>\n",
       "  <tbody>\n",
       "    <tr>\n",
       "      <th>0</th>\n",
       "      <td>DecisionTreeClassifier</td>\n",
       "      <td>0.854235</td>\n",
       "      <td>0.835244</td>\n",
       "      <td>0.577352</td>\n",
       "    </tr>\n",
       "    <tr>\n",
       "      <th>1</th>\n",
       "      <td>RandomForestClassifier</td>\n",
       "      <td>0.865237</td>\n",
       "      <td>0.857935</td>\n",
       "      <td>0.585448</td>\n",
       "    </tr>\n",
       "    <tr>\n",
       "      <th>2</th>\n",
       "      <td>LogisticRegression</td>\n",
       "      <td>0.808031</td>\n",
       "      <td>0.773617</td>\n",
       "      <td>0.303393</td>\n",
       "    </tr>\n",
       "    <tr>\n",
       "      <th>3</th>\n",
       "      <td>DecisionTreeClassifier_class_weight</td>\n",
       "      <td>0.778328</td>\n",
       "      <td>0.839652</td>\n",
       "      <td>0.573545</td>\n",
       "    </tr>\n",
       "    <tr>\n",
       "      <th>4</th>\n",
       "      <td>RandomForestClassifier_class_weight</td>\n",
       "      <td>0.844334</td>\n",
       "      <td>0.871136</td>\n",
       "      <td>0.645807</td>\n",
       "    </tr>\n",
       "    <tr>\n",
       "      <th>5</th>\n",
       "      <td>LogisticRegression_class_weight</td>\n",
       "      <td>0.709021</td>\n",
       "      <td>0.777753</td>\n",
       "      <td>0.509731</td>\n",
       "    </tr>\n",
       "  </tbody>\n",
       "</table>\n",
       "</div>"
      ],
      "text/plain": [
       "                                 model  accuracy  roc_auc_score  f1_score\n",
       "0               DecisionTreeClassifier  0.854235       0.835244  0.577352\n",
       "1               RandomForestClassifier  0.865237       0.857935  0.585448\n",
       "2                   LogisticRegression  0.808031       0.773617  0.303393\n",
       "3  DecisionTreeClassifier_class_weight  0.778328       0.839652  0.573545\n",
       "4  RandomForestClassifier_class_weight  0.844334       0.871136  0.645807\n",
       "5      LogisticRegression_class_weight  0.709021       0.777753  0.509731"
      ]
     },
     "execution_count": 31,
     "metadata": {},
     "output_type": "execute_result"
    }
   ],
   "source": [
    "model_logistic_class_weight = LogisticRegression(random_state=12345, solver='lbfgs', max_iter=1000, class_weight='balanced')\n",
    "model_logistic_class_weight.fit(data_train_features, data_train_target)\n",
    "metrics_models = calc_metrics_model(model_logistic_class_weight, 'LogisticRegression_class_weight', \n",
    "                                    data_valid_features, data_valid_target, metrics_models)\n",
    "metrics_models"
   ]
  },
  {
   "cell_type": "markdown",
   "id": "4e821fe0",
   "metadata": {},
   "source": [
    "Как видно по всем моделям значение по метрике *accuracy* падает, особенно это заметно на модели **Логистической регрессии** с **0.80** упало до **0.70**. Значение метрики *F1*-меры выросло у всех моделей, у модели **Случайного леса** самый высокий показатель данной метрики — **0.65** выше значения **0.59** которое у нас указано в задании, возможно мы нашли модель, которая подходит для решения нашей задачи. Также и выросло значение по метрике *AUC-ROC*, это метрика показывает насколько наши модели отличается от случайной, *AUC-ROC* случайной модели равен **0.5**, у всех наших трех моделей это значений больше **0.5**, однако у **Логистической регрессии** значение по данной метрики равно **0.77**. Также у модели **Логистической регрессии** самое низкое значение по метрике *F1*-мера — **0.50**, но конечно сильно выросло по сравнению с модель без балансироки классов, однако этого недостаточно для решения нашего задания.\n",
    "\n",
    "Попробуем сбалансировать классы путём увеличения их числа такая техникой **upsampling**. Данная техника представляет из себя то, что мы сначала определяем меньший класс, который содержит меньше объектов, и копируем несколько раз объекты этого класса, и создает новую выборку засчет полученных данных.\n",
    "\n",
    "Напишем для начала функцию, которая будет применять технику **upsampling** на наших данных:"
   ]
  },
  {
   "cell_type": "code",
   "execution_count": 32,
   "id": "c9ed2b45",
   "metadata": {},
   "outputs": [],
   "source": [
    "def upsampling(features, target, repeat):\n",
    "    features_zeros = features[target == 0]\n",
    "    features_ones = features[target == 1]\n",
    "    target_zeros = target[target == 0]\n",
    "    target_ones = target[target == 1]\n",
    "    \n",
    "    features_upsampled = pd.concat([features_zeros] + [features_ones] * repeat)\n",
    "    target_upsampled = pd.concat([target_zeros] + [target_ones] * repeat)\n",
    "    \n",
    "    features_upsampled, target_upsampled = shuffle(features_upsampled, target_upsampled, random_state=12345)\n",
    "    \n",
    "    return features_upsampled, target_upsampled"
   ]
  },
  {
   "cell_type": "markdown",
   "id": "cc3744a0",
   "metadata": {},
   "source": [
    "Функцию будем применять только на обучающей выборке, чтобы у модели было больше примеров для обучения:"
   ]
  },
  {
   "cell_type": "code",
   "execution_count": 33,
   "id": "e404a669",
   "metadata": {},
   "outputs": [
    {
     "name": "stdout",
     "output_type": "stream",
     "text": [
      "Количество элементов с классом 0 до применения техники upsampling 4328 \n",
      "Количество элементов с классом 1 до применения техники upsampling 1126\n",
      "Количество элементов с классом 0 после применения техники upsampling 4328 \n",
      "Количество элементов с классом 1 после применения техники upsampling 4504\n"
     ]
    }
   ],
   "source": [
    "print('Количество элементов с классом 0 до применения техники upsampling', \n",
    "      len(data_train_features[data_train_target == 0]),\n",
    "      '\\nКоличество элементов с классом 1 до применения техники upsampling', \n",
    "      len(data_train_features[data_train_target == 1])\n",
    "     )\n",
    "data_train_features_upsampled, data_train_target_upsampled = upsampling(data_train_features, data_train_target, 4)\n",
    "print('Количество элементов с классом 0 после применения техники upsampling', \n",
    "      len(data_train_features_upsampled[data_train_target_upsampled == 0]),\n",
    "      '\\nКоличество элементов с классом 1 после применения техники upsampling', \n",
    "      len(data_train_features_upsampled[data_train_target_upsampled == 1])\n",
    "     )"
   ]
  },
  {
   "cell_type": "markdown",
   "id": "81ec7796",
   "metadata": {},
   "source": [
    "Как можно заметить выше, дислбанс классов мы устранили, получилось конечно не ровно пополам, но гораздо лучше, чем разница между элементами класса больше, чем 3 тысячи элементов."
   ]
  },
  {
   "cell_type": "markdown",
   "id": "96584cf6",
   "metadata": {},
   "source": [
    "Проверим теперь модели **Дерево решений**, **Случайный лес**, **Логистическая регрессия** на этих данных и посмотрим какие у них будут значения в метриках качества *accuracy*, *AUC-ROC* и *F1*-меры."
   ]
  },
  {
   "cell_type": "code",
   "execution_count": 34,
   "id": "98704a7e",
   "metadata": {},
   "outputs": [
    {
     "name": "stdout",
     "output_type": "stream",
     "text": [
      "best_max_depth 7 f1_score: 0.5773524720893142\n"
     ]
    },
    {
     "data": {
      "text/html": [
       "<div>\n",
       "<style scoped>\n",
       "    .dataframe tbody tr th:only-of-type {\n",
       "        vertical-align: middle;\n",
       "    }\n",
       "\n",
       "    .dataframe tbody tr th {\n",
       "        vertical-align: top;\n",
       "    }\n",
       "\n",
       "    .dataframe thead th {\n",
       "        text-align: right;\n",
       "    }\n",
       "</style>\n",
       "<table border=\"1\" class=\"dataframe\">\n",
       "  <thead>\n",
       "    <tr style=\"text-align: right;\">\n",
       "      <th></th>\n",
       "      <th>model</th>\n",
       "      <th>accuracy</th>\n",
       "      <th>roc_auc_score</th>\n",
       "      <th>f1_score</th>\n",
       "    </tr>\n",
       "  </thead>\n",
       "  <tbody>\n",
       "    <tr>\n",
       "      <th>0</th>\n",
       "      <td>DecisionTreeClassifier</td>\n",
       "      <td>0.854235</td>\n",
       "      <td>0.835244</td>\n",
       "      <td>0.577352</td>\n",
       "    </tr>\n",
       "    <tr>\n",
       "      <th>1</th>\n",
       "      <td>RandomForestClassifier</td>\n",
       "      <td>0.865237</td>\n",
       "      <td>0.857935</td>\n",
       "      <td>0.585448</td>\n",
       "    </tr>\n",
       "    <tr>\n",
       "      <th>2</th>\n",
       "      <td>LogisticRegression</td>\n",
       "      <td>0.808031</td>\n",
       "      <td>0.773617</td>\n",
       "      <td>0.303393</td>\n",
       "    </tr>\n",
       "    <tr>\n",
       "      <th>3</th>\n",
       "      <td>DecisionTreeClassifier_class_weight</td>\n",
       "      <td>0.778328</td>\n",
       "      <td>0.839652</td>\n",
       "      <td>0.573545</td>\n",
       "    </tr>\n",
       "    <tr>\n",
       "      <th>4</th>\n",
       "      <td>RandomForestClassifier_class_weight</td>\n",
       "      <td>0.844334</td>\n",
       "      <td>0.871136</td>\n",
       "      <td>0.645807</td>\n",
       "    </tr>\n",
       "    <tr>\n",
       "      <th>5</th>\n",
       "      <td>LogisticRegression_class_weight</td>\n",
       "      <td>0.709021</td>\n",
       "      <td>0.777753</td>\n",
       "      <td>0.509731</td>\n",
       "    </tr>\n",
       "    <tr>\n",
       "      <th>6</th>\n",
       "      <td>DecisionTreeClassifier_upsampled</td>\n",
       "      <td>0.854235</td>\n",
       "      <td>0.835244</td>\n",
       "      <td>0.577352</td>\n",
       "    </tr>\n",
       "  </tbody>\n",
       "</table>\n",
       "</div>"
      ],
      "text/plain": [
       "                                 model  accuracy  roc_auc_score  f1_score\n",
       "0               DecisionTreeClassifier  0.854235       0.835244  0.577352\n",
       "1               RandomForestClassifier  0.865237       0.857935  0.585448\n",
       "2                   LogisticRegression  0.808031       0.773617  0.303393\n",
       "3  DecisionTreeClassifier_class_weight  0.778328       0.839652  0.573545\n",
       "4  RandomForestClassifier_class_weight  0.844334       0.871136  0.645807\n",
       "5      LogisticRegression_class_weight  0.709021       0.777753  0.509731\n",
       "6     DecisionTreeClassifier_upsampled  0.854235       0.835244  0.577352"
      ]
     },
     "execution_count": 34,
     "metadata": {},
     "output_type": "execute_result"
    }
   ],
   "source": [
    "model_tree_upsampled = get_best_model_tree(data_train_features_upsampled, data_train_target_upsampled, \n",
    "                                           data_valid_features, data_valid_target, None)\n",
    "metrics_models = calc_metrics_model(model_tree_upsampled, 'DecisionTreeClassifier_upsampled', \n",
    "                                    data_valid_features, data_valid_target, metrics_models)\n",
    "metrics_models"
   ]
  },
  {
   "cell_type": "code",
   "execution_count": 35,
   "id": "0f5f84fc",
   "metadata": {},
   "outputs": [
    {
     "name": "stdout",
     "output_type": "stream",
     "text": [
      "best_est 80 best_max_depth 10 f1_score: 0.577319587628866\n"
     ]
    },
    {
     "data": {
      "text/html": [
       "<div>\n",
       "<style scoped>\n",
       "    .dataframe tbody tr th:only-of-type {\n",
       "        vertical-align: middle;\n",
       "    }\n",
       "\n",
       "    .dataframe tbody tr th {\n",
       "        vertical-align: top;\n",
       "    }\n",
       "\n",
       "    .dataframe thead th {\n",
       "        text-align: right;\n",
       "    }\n",
       "</style>\n",
       "<table border=\"1\" class=\"dataframe\">\n",
       "  <thead>\n",
       "    <tr style=\"text-align: right;\">\n",
       "      <th></th>\n",
       "      <th>model</th>\n",
       "      <th>accuracy</th>\n",
       "      <th>roc_auc_score</th>\n",
       "      <th>f1_score</th>\n",
       "    </tr>\n",
       "  </thead>\n",
       "  <tbody>\n",
       "    <tr>\n",
       "      <th>0</th>\n",
       "      <td>DecisionTreeClassifier</td>\n",
       "      <td>0.854235</td>\n",
       "      <td>0.835244</td>\n",
       "      <td>0.577352</td>\n",
       "    </tr>\n",
       "    <tr>\n",
       "      <th>1</th>\n",
       "      <td>RandomForestClassifier</td>\n",
       "      <td>0.865237</td>\n",
       "      <td>0.857935</td>\n",
       "      <td>0.585448</td>\n",
       "    </tr>\n",
       "    <tr>\n",
       "      <th>2</th>\n",
       "      <td>LogisticRegression</td>\n",
       "      <td>0.808031</td>\n",
       "      <td>0.773617</td>\n",
       "      <td>0.303393</td>\n",
       "    </tr>\n",
       "    <tr>\n",
       "      <th>3</th>\n",
       "      <td>DecisionTreeClassifier_class_weight</td>\n",
       "      <td>0.778328</td>\n",
       "      <td>0.839652</td>\n",
       "      <td>0.573545</td>\n",
       "    </tr>\n",
       "    <tr>\n",
       "      <th>4</th>\n",
       "      <td>RandomForestClassifier_class_weight</td>\n",
       "      <td>0.844334</td>\n",
       "      <td>0.871136</td>\n",
       "      <td>0.645807</td>\n",
       "    </tr>\n",
       "    <tr>\n",
       "      <th>5</th>\n",
       "      <td>LogisticRegression_class_weight</td>\n",
       "      <td>0.709021</td>\n",
       "      <td>0.777753</td>\n",
       "      <td>0.509731</td>\n",
       "    </tr>\n",
       "    <tr>\n",
       "      <th>6</th>\n",
       "      <td>DecisionTreeClassifier_upsampled</td>\n",
       "      <td>0.854235</td>\n",
       "      <td>0.835244</td>\n",
       "      <td>0.577352</td>\n",
       "    </tr>\n",
       "    <tr>\n",
       "      <th>7</th>\n",
       "      <td>RandomForestClassifier_upsampled</td>\n",
       "      <td>0.864686</td>\n",
       "      <td>0.870085</td>\n",
       "      <td>0.577320</td>\n",
       "    </tr>\n",
       "  </tbody>\n",
       "</table>\n",
       "</div>"
      ],
      "text/plain": [
       "                                 model  accuracy  roc_auc_score  f1_score\n",
       "0               DecisionTreeClassifier  0.854235       0.835244  0.577352\n",
       "1               RandomForestClassifier  0.865237       0.857935  0.585448\n",
       "2                   LogisticRegression  0.808031       0.773617  0.303393\n",
       "3  DecisionTreeClassifier_class_weight  0.778328       0.839652  0.573545\n",
       "4  RandomForestClassifier_class_weight  0.844334       0.871136  0.645807\n",
       "5      LogisticRegression_class_weight  0.709021       0.777753  0.509731\n",
       "6     DecisionTreeClassifier_upsampled  0.854235       0.835244  0.577352\n",
       "7     RandomForestClassifier_upsampled  0.864686       0.870085  0.577320"
      ]
     },
     "execution_count": 35,
     "metadata": {},
     "output_type": "execute_result"
    }
   ],
   "source": [
    "model_randomforest_upsampled = get_best_model_randomforest(data_train_features_upsampled, data_train_target_upsampled, \n",
    "                                                           data_valid_features, data_valid_target, None)\n",
    "metrics_models = calc_metrics_model(model_randomforest_upsampled, 'RandomForestClassifier_upsampled',  \n",
    "                                    data_valid_features, data_valid_target, metrics_models)\n",
    "metrics_models"
   ]
  },
  {
   "cell_type": "code",
   "execution_count": 36,
   "id": "59449a13",
   "metadata": {},
   "outputs": [
    {
     "data": {
      "text/html": [
       "<div>\n",
       "<style scoped>\n",
       "    .dataframe tbody tr th:only-of-type {\n",
       "        vertical-align: middle;\n",
       "    }\n",
       "\n",
       "    .dataframe tbody tr th {\n",
       "        vertical-align: top;\n",
       "    }\n",
       "\n",
       "    .dataframe thead th {\n",
       "        text-align: right;\n",
       "    }\n",
       "</style>\n",
       "<table border=\"1\" class=\"dataframe\">\n",
       "  <thead>\n",
       "    <tr style=\"text-align: right;\">\n",
       "      <th></th>\n",
       "      <th>model</th>\n",
       "      <th>accuracy</th>\n",
       "      <th>roc_auc_score</th>\n",
       "      <th>f1_score</th>\n",
       "    </tr>\n",
       "  </thead>\n",
       "  <tbody>\n",
       "    <tr>\n",
       "      <th>0</th>\n",
       "      <td>DecisionTreeClassifier</td>\n",
       "      <td>0.854235</td>\n",
       "      <td>0.835244</td>\n",
       "      <td>0.577352</td>\n",
       "    </tr>\n",
       "    <tr>\n",
       "      <th>1</th>\n",
       "      <td>RandomForestClassifier</td>\n",
       "      <td>0.865237</td>\n",
       "      <td>0.857935</td>\n",
       "      <td>0.585448</td>\n",
       "    </tr>\n",
       "    <tr>\n",
       "      <th>2</th>\n",
       "      <td>LogisticRegression</td>\n",
       "      <td>0.808031</td>\n",
       "      <td>0.773617</td>\n",
       "      <td>0.303393</td>\n",
       "    </tr>\n",
       "    <tr>\n",
       "      <th>3</th>\n",
       "      <td>DecisionTreeClassifier_class_weight</td>\n",
       "      <td>0.778328</td>\n",
       "      <td>0.839652</td>\n",
       "      <td>0.573545</td>\n",
       "    </tr>\n",
       "    <tr>\n",
       "      <th>4</th>\n",
       "      <td>RandomForestClassifier_class_weight</td>\n",
       "      <td>0.844334</td>\n",
       "      <td>0.871136</td>\n",
       "      <td>0.645807</td>\n",
       "    </tr>\n",
       "    <tr>\n",
       "      <th>5</th>\n",
       "      <td>LogisticRegression_class_weight</td>\n",
       "      <td>0.709021</td>\n",
       "      <td>0.777753</td>\n",
       "      <td>0.509731</td>\n",
       "    </tr>\n",
       "    <tr>\n",
       "      <th>6</th>\n",
       "      <td>DecisionTreeClassifier_upsampled</td>\n",
       "      <td>0.854235</td>\n",
       "      <td>0.835244</td>\n",
       "      <td>0.577352</td>\n",
       "    </tr>\n",
       "    <tr>\n",
       "      <th>7</th>\n",
       "      <td>RandomForestClassifier_upsampled</td>\n",
       "      <td>0.864686</td>\n",
       "      <td>0.870085</td>\n",
       "      <td>0.577320</td>\n",
       "    </tr>\n",
       "    <tr>\n",
       "      <th>8</th>\n",
       "      <td>LogisticRegression_upsampled</td>\n",
       "      <td>0.700770</td>\n",
       "      <td>0.777862</td>\n",
       "      <td>0.508137</td>\n",
       "    </tr>\n",
       "  </tbody>\n",
       "</table>\n",
       "</div>"
      ],
      "text/plain": [
       "                                 model  accuracy  roc_auc_score  f1_score\n",
       "0               DecisionTreeClassifier  0.854235       0.835244  0.577352\n",
       "1               RandomForestClassifier  0.865237       0.857935  0.585448\n",
       "2                   LogisticRegression  0.808031       0.773617  0.303393\n",
       "3  DecisionTreeClassifier_class_weight  0.778328       0.839652  0.573545\n",
       "4  RandomForestClassifier_class_weight  0.844334       0.871136  0.645807\n",
       "5      LogisticRegression_class_weight  0.709021       0.777753  0.509731\n",
       "6     DecisionTreeClassifier_upsampled  0.854235       0.835244  0.577352\n",
       "7     RandomForestClassifier_upsampled  0.864686       0.870085  0.577320\n",
       "8         LogisticRegression_upsampled  0.700770       0.777862  0.508137"
      ]
     },
     "execution_count": 36,
     "metadata": {},
     "output_type": "execute_result"
    }
   ],
   "source": [
    "model_logistic_upsampled = LogisticRegression(random_state=12345, solver='lbfgs', max_iter=1000)\n",
    "model_logistic_upsampled.fit(data_train_features_upsampled, data_train_target_upsampled)\n",
    "metrics_models = calc_metrics_model(model_logistic_upsampled, 'LogisticRegression_upsampled', \n",
    "                                    data_valid_features, data_valid_target, metrics_models)\n",
    "metrics_models"
   ]
  },
  {
   "cell_type": "markdown",
   "id": "ca001df1",
   "metadata": {},
   "source": [
    "Как видно по сравнению с первыми моделями, при использовании техники **upsampling** значение у метрики *accuracy* падает, у метрик *AUC-ROC* и *F1*-меры значения растут. Если смотреть по метрике *F1*-меры, она незначительно поменялась у модели **Дерево решений** и **Логистической регрессии** и упала у модели **Случайного леса** по сравнению с моделями, где сделали балансировку классов с помощью аргумента `class_weight`, значение метрик у данной модели упало с **0.64** до **0.57**. Если смотреть на метрику *AUC-ROC*, то в основном значение у метрики не сильно поменялось по сравнению с моделями, где сделали балансировку классов с помощью аргумента `class_weight`.\n",
    "\n",
    "Попробуем теперь сбалансировать классы с помощью техники **downsampling**. Эта техника противоположна технике **upsampling**, в прошлый мы увеличивали количество значений меньшего класса, сейчас же будет делать наоборот — уменьшать количество значений большего класса случайным образом. Как и в прошлый раз напишем функцию для использования техники **downsampling**: "
   ]
  },
  {
   "cell_type": "code",
   "execution_count": 37,
   "id": "5d6eb68c",
   "metadata": {},
   "outputs": [],
   "source": [
    "def downsample(features, target, fraction):\n",
    "    features_zeros = features[target == 0]\n",
    "    features_ones = features[target == 1]\n",
    "    target_zeros = target[target == 0]\n",
    "    target_ones = target[target == 1]\n",
    "    \n",
    "    features_downsampled = pd.concat([features_zeros.sample(frac=fraction, random_state=12345)] + [features_ones])\n",
    "    target_downsampled = pd.concat([target_zeros.sample(frac=fraction, random_state=12345)] + [target_ones])\n",
    "    \n",
    "    features_downsampled, target_downsampled = shuffle(features_downsampled, target_downsampled, random_state=12345)\n",
    "    \n",
    "    return features_downsampled, target_downsampled"
   ]
  },
  {
   "cell_type": "markdown",
   "id": "63ab2b6f",
   "metadata": {},
   "source": [
    "Функцию будем применять только на обучающей выборке, чтобы у модели было больше примеров для обучения:"
   ]
  },
  {
   "cell_type": "code",
   "execution_count": 38,
   "id": "110334c2",
   "metadata": {},
   "outputs": [
    {
     "name": "stdout",
     "output_type": "stream",
     "text": [
      "Количество элементов с классом 0 до применения техники downsample 4328 \n",
      "Количество элементов с классом 1 до применения техники downsample 1126\n",
      "Количество элементов с классом 0 после применения техники downsample 1126 \n",
      "Количество элементов с классом 1 после применения техники downsample 1126\n"
     ]
    }
   ],
   "source": [
    "print('Количество элементов с классом 0 до применения техники downsample', \n",
    "      len(data_train_features[data_train_target == 0]),\n",
    "      '\\nКоличество элементов с классом 1 до применения техники downsample', \n",
    "      len(data_train_features[data_train_target == 1])\n",
    "     )\n",
    "data_train_features_downsample, data_train_target_downsample = downsample(data_train_features, data_train_target, 0.2601)\n",
    "print('Количество элементов с классом 0 после применения техники downsample', \n",
    "      len(data_train_features_downsample[data_train_target_downsample == 0]),\n",
    "      '\\nКоличество элементов с классом 1 после применения техники downsample', \n",
    "      len(data_train_features_downsample[data_train_target_downsample == 1])\n",
    "     )"
   ]
  },
  {
   "cell_type": "markdown",
   "id": "1901d012",
   "metadata": {},
   "source": [
    "Как можно заметить выше, дислбанс классов мы устранили, получилось ровно пополам элементов каждого класса."
   ]
  },
  {
   "cell_type": "markdown",
   "id": "6f674c83",
   "metadata": {},
   "source": [
    "Проверим теперь модели **Дерево решений**, **Случайный лес**, **Логистическая регрессия** на этих данных и посмотрим какие у них будут значения в метриках качества *accuracy*, *AUC-ROC* и *F1*-меры."
   ]
  },
  {
   "cell_type": "code",
   "execution_count": 39,
   "id": "ab83c6ac",
   "metadata": {},
   "outputs": [
    {
     "name": "stdout",
     "output_type": "stream",
     "text": [
      "best_max_depth 7 f1_score: 0.5773524720893142\n"
     ]
    },
    {
     "data": {
      "text/html": [
       "<div>\n",
       "<style scoped>\n",
       "    .dataframe tbody tr th:only-of-type {\n",
       "        vertical-align: middle;\n",
       "    }\n",
       "\n",
       "    .dataframe tbody tr th {\n",
       "        vertical-align: top;\n",
       "    }\n",
       "\n",
       "    .dataframe thead th {\n",
       "        text-align: right;\n",
       "    }\n",
       "</style>\n",
       "<table border=\"1\" class=\"dataframe\">\n",
       "  <thead>\n",
       "    <tr style=\"text-align: right;\">\n",
       "      <th></th>\n",
       "      <th>model</th>\n",
       "      <th>accuracy</th>\n",
       "      <th>roc_auc_score</th>\n",
       "      <th>f1_score</th>\n",
       "    </tr>\n",
       "  </thead>\n",
       "  <tbody>\n",
       "    <tr>\n",
       "      <th>0</th>\n",
       "      <td>DecisionTreeClassifier</td>\n",
       "      <td>0.854235</td>\n",
       "      <td>0.835244</td>\n",
       "      <td>0.577352</td>\n",
       "    </tr>\n",
       "    <tr>\n",
       "      <th>1</th>\n",
       "      <td>RandomForestClassifier</td>\n",
       "      <td>0.865237</td>\n",
       "      <td>0.857935</td>\n",
       "      <td>0.585448</td>\n",
       "    </tr>\n",
       "    <tr>\n",
       "      <th>2</th>\n",
       "      <td>LogisticRegression</td>\n",
       "      <td>0.808031</td>\n",
       "      <td>0.773617</td>\n",
       "      <td>0.303393</td>\n",
       "    </tr>\n",
       "    <tr>\n",
       "      <th>3</th>\n",
       "      <td>DecisionTreeClassifier_class_weight</td>\n",
       "      <td>0.778328</td>\n",
       "      <td>0.839652</td>\n",
       "      <td>0.573545</td>\n",
       "    </tr>\n",
       "    <tr>\n",
       "      <th>4</th>\n",
       "      <td>RandomForestClassifier_class_weight</td>\n",
       "      <td>0.844334</td>\n",
       "      <td>0.871136</td>\n",
       "      <td>0.645807</td>\n",
       "    </tr>\n",
       "    <tr>\n",
       "      <th>5</th>\n",
       "      <td>LogisticRegression_class_weight</td>\n",
       "      <td>0.709021</td>\n",
       "      <td>0.777753</td>\n",
       "      <td>0.509731</td>\n",
       "    </tr>\n",
       "    <tr>\n",
       "      <th>6</th>\n",
       "      <td>DecisionTreeClassifier_upsampled</td>\n",
       "      <td>0.854235</td>\n",
       "      <td>0.835244</td>\n",
       "      <td>0.577352</td>\n",
       "    </tr>\n",
       "    <tr>\n",
       "      <th>7</th>\n",
       "      <td>RandomForestClassifier_upsampled</td>\n",
       "      <td>0.864686</td>\n",
       "      <td>0.870085</td>\n",
       "      <td>0.577320</td>\n",
       "    </tr>\n",
       "    <tr>\n",
       "      <th>8</th>\n",
       "      <td>LogisticRegression_upsampled</td>\n",
       "      <td>0.700770</td>\n",
       "      <td>0.777862</td>\n",
       "      <td>0.508137</td>\n",
       "    </tr>\n",
       "    <tr>\n",
       "      <th>9</th>\n",
       "      <td>DecisionTreeClassifier_downsample</td>\n",
       "      <td>0.854235</td>\n",
       "      <td>0.835244</td>\n",
       "      <td>0.577352</td>\n",
       "    </tr>\n",
       "  </tbody>\n",
       "</table>\n",
       "</div>"
      ],
      "text/plain": [
       "                                 model  accuracy  roc_auc_score  f1_score\n",
       "0               DecisionTreeClassifier  0.854235       0.835244  0.577352\n",
       "1               RandomForestClassifier  0.865237       0.857935  0.585448\n",
       "2                   LogisticRegression  0.808031       0.773617  0.303393\n",
       "3  DecisionTreeClassifier_class_weight  0.778328       0.839652  0.573545\n",
       "4  RandomForestClassifier_class_weight  0.844334       0.871136  0.645807\n",
       "5      LogisticRegression_class_weight  0.709021       0.777753  0.509731\n",
       "6     DecisionTreeClassifier_upsampled  0.854235       0.835244  0.577352\n",
       "7     RandomForestClassifier_upsampled  0.864686       0.870085  0.577320\n",
       "8         LogisticRegression_upsampled  0.700770       0.777862  0.508137\n",
       "9    DecisionTreeClassifier_downsample  0.854235       0.835244  0.577352"
      ]
     },
     "execution_count": 39,
     "metadata": {},
     "output_type": "execute_result"
    }
   ],
   "source": [
    "model_tree_downsample = get_best_model_tree(data_train_features_downsample, data_train_target_downsample, \n",
    "                                            data_valid_features, data_valid_target, None)\n",
    "metrics_models = calc_metrics_model(model_tree_downsample, 'DecisionTreeClassifier_downsample', \n",
    "                                    data_valid_features, data_valid_target, metrics_models)\n",
    "metrics_models"
   ]
  },
  {
   "cell_type": "code",
   "execution_count": 40,
   "id": "62752ed1",
   "metadata": {},
   "outputs": [
    {
     "name": "stdout",
     "output_type": "stream",
     "text": [
      "best_est 10 best_max_depth 9 f1_score: 0.5838926174496645\n"
     ]
    },
    {
     "data": {
      "text/html": [
       "<div>\n",
       "<style scoped>\n",
       "    .dataframe tbody tr th:only-of-type {\n",
       "        vertical-align: middle;\n",
       "    }\n",
       "\n",
       "    .dataframe tbody tr th {\n",
       "        vertical-align: top;\n",
       "    }\n",
       "\n",
       "    .dataframe thead th {\n",
       "        text-align: right;\n",
       "    }\n",
       "</style>\n",
       "<table border=\"1\" class=\"dataframe\">\n",
       "  <thead>\n",
       "    <tr style=\"text-align: right;\">\n",
       "      <th></th>\n",
       "      <th>model</th>\n",
       "      <th>accuracy</th>\n",
       "      <th>roc_auc_score</th>\n",
       "      <th>f1_score</th>\n",
       "    </tr>\n",
       "  </thead>\n",
       "  <tbody>\n",
       "    <tr>\n",
       "      <th>0</th>\n",
       "      <td>DecisionTreeClassifier</td>\n",
       "      <td>0.854235</td>\n",
       "      <td>0.835244</td>\n",
       "      <td>0.577352</td>\n",
       "    </tr>\n",
       "    <tr>\n",
       "      <th>1</th>\n",
       "      <td>RandomForestClassifier</td>\n",
       "      <td>0.865237</td>\n",
       "      <td>0.857935</td>\n",
       "      <td>0.585448</td>\n",
       "    </tr>\n",
       "    <tr>\n",
       "      <th>2</th>\n",
       "      <td>LogisticRegression</td>\n",
       "      <td>0.808031</td>\n",
       "      <td>0.773617</td>\n",
       "      <td>0.303393</td>\n",
       "    </tr>\n",
       "    <tr>\n",
       "      <th>3</th>\n",
       "      <td>DecisionTreeClassifier_class_weight</td>\n",
       "      <td>0.778328</td>\n",
       "      <td>0.839652</td>\n",
       "      <td>0.573545</td>\n",
       "    </tr>\n",
       "    <tr>\n",
       "      <th>4</th>\n",
       "      <td>RandomForestClassifier_class_weight</td>\n",
       "      <td>0.844334</td>\n",
       "      <td>0.871136</td>\n",
       "      <td>0.645807</td>\n",
       "    </tr>\n",
       "    <tr>\n",
       "      <th>5</th>\n",
       "      <td>LogisticRegression_class_weight</td>\n",
       "      <td>0.709021</td>\n",
       "      <td>0.777753</td>\n",
       "      <td>0.509731</td>\n",
       "    </tr>\n",
       "    <tr>\n",
       "      <th>6</th>\n",
       "      <td>DecisionTreeClassifier_upsampled</td>\n",
       "      <td>0.854235</td>\n",
       "      <td>0.835244</td>\n",
       "      <td>0.577352</td>\n",
       "    </tr>\n",
       "    <tr>\n",
       "      <th>7</th>\n",
       "      <td>RandomForestClassifier_upsampled</td>\n",
       "      <td>0.864686</td>\n",
       "      <td>0.870085</td>\n",
       "      <td>0.577320</td>\n",
       "    </tr>\n",
       "    <tr>\n",
       "      <th>8</th>\n",
       "      <td>LogisticRegression_upsampled</td>\n",
       "      <td>0.700770</td>\n",
       "      <td>0.777862</td>\n",
       "      <td>0.508137</td>\n",
       "    </tr>\n",
       "    <tr>\n",
       "      <th>9</th>\n",
       "      <td>DecisionTreeClassifier_downsample</td>\n",
       "      <td>0.854235</td>\n",
       "      <td>0.835244</td>\n",
       "      <td>0.577352</td>\n",
       "    </tr>\n",
       "    <tr>\n",
       "      <th>10</th>\n",
       "      <td>RandomForestClassifier_downsample</td>\n",
       "      <td>0.863586</td>\n",
       "      <td>0.853872</td>\n",
       "      <td>0.583893</td>\n",
       "    </tr>\n",
       "  </tbody>\n",
       "</table>\n",
       "</div>"
      ],
      "text/plain": [
       "                                  model  accuracy  roc_auc_score  f1_score\n",
       "0                DecisionTreeClassifier  0.854235       0.835244  0.577352\n",
       "1                RandomForestClassifier  0.865237       0.857935  0.585448\n",
       "2                    LogisticRegression  0.808031       0.773617  0.303393\n",
       "3   DecisionTreeClassifier_class_weight  0.778328       0.839652  0.573545\n",
       "4   RandomForestClassifier_class_weight  0.844334       0.871136  0.645807\n",
       "5       LogisticRegression_class_weight  0.709021       0.777753  0.509731\n",
       "6      DecisionTreeClassifier_upsampled  0.854235       0.835244  0.577352\n",
       "7      RandomForestClassifier_upsampled  0.864686       0.870085  0.577320\n",
       "8          LogisticRegression_upsampled  0.700770       0.777862  0.508137\n",
       "9     DecisionTreeClassifier_downsample  0.854235       0.835244  0.577352\n",
       "10    RandomForestClassifier_downsample  0.863586       0.853872  0.583893"
      ]
     },
     "execution_count": 40,
     "metadata": {},
     "output_type": "execute_result"
    }
   ],
   "source": [
    "model_randomforest_downsample = get_best_model_randomforest(data_train_features_upsampled, data_train_target_upsampled, \n",
    "                                                            data_valid_features, data_valid_target, None)\n",
    "metrics_models = calc_metrics_model(model_randomforest_downsample, 'RandomForestClassifier_downsample', \n",
    "                                    data_valid_features, data_valid_target, metrics_models)\n",
    "metrics_models"
   ]
  },
  {
   "cell_type": "code",
   "execution_count": 41,
   "id": "40845fd3",
   "metadata": {},
   "outputs": [
    {
     "data": {
      "text/html": [
       "<div>\n",
       "<style scoped>\n",
       "    .dataframe tbody tr th:only-of-type {\n",
       "        vertical-align: middle;\n",
       "    }\n",
       "\n",
       "    .dataframe tbody tr th {\n",
       "        vertical-align: top;\n",
       "    }\n",
       "\n",
       "    .dataframe thead th {\n",
       "        text-align: right;\n",
       "    }\n",
       "</style>\n",
       "<table border=\"1\" class=\"dataframe\">\n",
       "  <thead>\n",
       "    <tr style=\"text-align: right;\">\n",
       "      <th></th>\n",
       "      <th>model</th>\n",
       "      <th>accuracy</th>\n",
       "      <th>roc_auc_score</th>\n",
       "      <th>f1_score</th>\n",
       "    </tr>\n",
       "  </thead>\n",
       "  <tbody>\n",
       "    <tr>\n",
       "      <th>0</th>\n",
       "      <td>DecisionTreeClassifier</td>\n",
       "      <td>0.854235</td>\n",
       "      <td>0.835244</td>\n",
       "      <td>0.577352</td>\n",
       "    </tr>\n",
       "    <tr>\n",
       "      <th>1</th>\n",
       "      <td>RandomForestClassifier</td>\n",
       "      <td>0.865237</td>\n",
       "      <td>0.857935</td>\n",
       "      <td>0.585448</td>\n",
       "    </tr>\n",
       "    <tr>\n",
       "      <th>2</th>\n",
       "      <td>LogisticRegression</td>\n",
       "      <td>0.808031</td>\n",
       "      <td>0.773617</td>\n",
       "      <td>0.303393</td>\n",
       "    </tr>\n",
       "    <tr>\n",
       "      <th>3</th>\n",
       "      <td>DecisionTreeClassifier_class_weight</td>\n",
       "      <td>0.778328</td>\n",
       "      <td>0.839652</td>\n",
       "      <td>0.573545</td>\n",
       "    </tr>\n",
       "    <tr>\n",
       "      <th>4</th>\n",
       "      <td>RandomForestClassifier_class_weight</td>\n",
       "      <td>0.844334</td>\n",
       "      <td>0.871136</td>\n",
       "      <td>0.645807</td>\n",
       "    </tr>\n",
       "    <tr>\n",
       "      <th>5</th>\n",
       "      <td>LogisticRegression_class_weight</td>\n",
       "      <td>0.709021</td>\n",
       "      <td>0.777753</td>\n",
       "      <td>0.509731</td>\n",
       "    </tr>\n",
       "    <tr>\n",
       "      <th>6</th>\n",
       "      <td>DecisionTreeClassifier_upsampled</td>\n",
       "      <td>0.854235</td>\n",
       "      <td>0.835244</td>\n",
       "      <td>0.577352</td>\n",
       "    </tr>\n",
       "    <tr>\n",
       "      <th>7</th>\n",
       "      <td>RandomForestClassifier_upsampled</td>\n",
       "      <td>0.864686</td>\n",
       "      <td>0.870085</td>\n",
       "      <td>0.577320</td>\n",
       "    </tr>\n",
       "    <tr>\n",
       "      <th>8</th>\n",
       "      <td>LogisticRegression_upsampled</td>\n",
       "      <td>0.700770</td>\n",
       "      <td>0.777862</td>\n",
       "      <td>0.508137</td>\n",
       "    </tr>\n",
       "    <tr>\n",
       "      <th>9</th>\n",
       "      <td>DecisionTreeClassifier_downsample</td>\n",
       "      <td>0.854235</td>\n",
       "      <td>0.835244</td>\n",
       "      <td>0.577352</td>\n",
       "    </tr>\n",
       "    <tr>\n",
       "      <th>10</th>\n",
       "      <td>RandomForestClassifier_downsample</td>\n",
       "      <td>0.863586</td>\n",
       "      <td>0.853872</td>\n",
       "      <td>0.583893</td>\n",
       "    </tr>\n",
       "    <tr>\n",
       "      <th>11</th>\n",
       "      <td>LogisticRegression_downsample</td>\n",
       "      <td>0.700770</td>\n",
       "      <td>0.775603</td>\n",
       "      <td>0.503650</td>\n",
       "    </tr>\n",
       "  </tbody>\n",
       "</table>\n",
       "</div>"
      ],
      "text/plain": [
       "                                  model  accuracy  roc_auc_score  f1_score\n",
       "0                DecisionTreeClassifier  0.854235       0.835244  0.577352\n",
       "1                RandomForestClassifier  0.865237       0.857935  0.585448\n",
       "2                    LogisticRegression  0.808031       0.773617  0.303393\n",
       "3   DecisionTreeClassifier_class_weight  0.778328       0.839652  0.573545\n",
       "4   RandomForestClassifier_class_weight  0.844334       0.871136  0.645807\n",
       "5       LogisticRegression_class_weight  0.709021       0.777753  0.509731\n",
       "6      DecisionTreeClassifier_upsampled  0.854235       0.835244  0.577352\n",
       "7      RandomForestClassifier_upsampled  0.864686       0.870085  0.577320\n",
       "8          LogisticRegression_upsampled  0.700770       0.777862  0.508137\n",
       "9     DecisionTreeClassifier_downsample  0.854235       0.835244  0.577352\n",
       "10    RandomForestClassifier_downsample  0.863586       0.853872  0.583893\n",
       "11        LogisticRegression_downsample  0.700770       0.775603  0.503650"
      ]
     },
     "execution_count": 41,
     "metadata": {},
     "output_type": "execute_result"
    }
   ],
   "source": [
    "model_logistic_downsample = LogisticRegression(random_state=12345, solver='lbfgs', max_iter=1000)\n",
    "model_logistic_downsample.fit(data_train_features_downsample, data_train_target_downsample)\n",
    "metrics_models = calc_metrics_model(model_logistic_downsample, 'LogisticRegression_downsample', \n",
    "                                    data_valid_features, data_valid_target, metrics_models)\n",
    "metrics_models"
   ]
  },
  {
   "cell_type": "markdown",
   "id": "80bafba7",
   "metadata": {},
   "source": [
    "Модели, где мы сбалансировали классы с помощью техники **downsample** показывают почти точно такую же точность по метрике *F1*-меры по сравнению с другими моделями, где мы использовали другие методы балансировки классов, модель **Случайного леса**, которая показывала до этого наибольшее значение по метрике *F1*-меры, сейчас имеет значение **0.58**. По метрике *AUC-ROC* видно, что значения не сильно изменились по сравнению с остальными моделями, где мы балансировали классы с помощью аргумента `class_weight` и техники **upsampled**.\n",
    "\n",
    "На основании выше проведенного исследования, мы нашли модель, которая подходит для решения нашей задачи — это модель **Случайного леса** с гиперпараметрами с гиперпараметрами `n_estimators` — количество деревьев в лесу равное **50** и `max_depth` — глубина дерева равное **9**.Также мы нашли подходящий способ балансировки классов — это балансировака классов с помощью аргумента `class_weight`. При учите выше перечисленного данная модель **Случайного леса** показывает качество равное **0.64** по метркие *F1*-мера."
   ]
  },
  {
   "cell_type": "markdown",
   "id": "625e8ca3",
   "metadata": {},
   "source": [
    "## Тестирование модели"
   ]
  },
  {
   "cell_type": "markdown",
   "id": "c8c09c49",
   "metadata": {},
   "source": [
    "Ранее нам удалось определить, что лучшую точность при обучении показала модель **Случайный лес** с гиперпараметрами `n_estimators` — количество деревьев в лесу равное **50** и `max_depth` — глубина дерева равное **9** при балансировке классов с помощью аргумента `class_weight`. Проверим теперь выбранную нами модель на тестовых данных, данная модель у нас записана в переменной `model_randomforest_class_weight`:"
   ]
  },
  {
   "cell_type": "code",
   "execution_count": 43,
   "id": "efc0dd03",
   "metadata": {},
   "outputs": [
    {
     "name": "stdout",
     "output_type": "stream",
     "text": [
      "F1-мера на тестовой выборке 0.6042216358839051\n",
      "AUC-ROC на тестовой выборке 0.8557333271229729\n"
     ]
    }
   ],
   "source": [
    "predictions_test = model_randomforest_class_weight.predict(data_test_features)\n",
    "probabilities_valid = model_randomforest_class_weight.predict_proba(data_test_features)\n",
    "probabilities_one_valid = probabilities_valid[:, 1]\n",
    "print('F1-мера на тестовой выборке', f1_score(data_test_target, predictions_test))\n",
    "print('AUC-ROC на тестовой выборке', roc_auc_score(data_test_target, probabilities_one_valid))"
   ]
  },
  {
   "cell_type": "markdown",
   "id": "3cd70d15",
   "metadata": {},
   "source": [
    "Как можно заметить у модели **Случайный лес** на тестовой выборке значение по метрике *F1*-мера не сильно меньше упало с **0.64** на валидационной выборке до **0.60**, что говорит о том, что мы сделали правильный выбор в пользу этой модели. Также по метрике *AUC-ROC* видно, что выбраная модель сильно отличается от случайной модели у которой значение по данной метрике равно **0.5**, что говорит о вменяемости выбранной модели."
   ]
  },
  {
   "cell_type": "markdown",
   "id": "05b06c69",
   "metadata": {},
   "source": [
    "### Общий вывод"
   ]
  },
  {
   "cell_type": "markdown",
   "id": "9d3bbd47",
   "metadata": {},
   "source": [
    "В рамках задания нам нужно было построить модель машинного обучения, которая может предсказать уйдет ли клиента от банка в ближайшее время или нет на основании исторических данных о поведении клиентов, значение по метрике *F1*-мера должно составлять не менее **0.59**. \n",
    "\n",
    "Было обучено несколько моделей машинного обучения по предоставленным данным, а также использованы использованы различные методы балансировки классов и были получены следующие результаты:\n",
    "- Модель **Дерево решений** значение метрики *F1*-мера без балансировки классов на валидационной выборке— **0.57**;\n",
    "- Модель **Случайный лес** значение метрики *F1*-мера без балансировки классов на валидационной выборке— **0.58**;\n",
    "- Модель **Логистическая регрессия** значение метрики *F1*-мера без балансировки классов на валидационной выборке— **0.30**;\n",
    "- Модель **Дерево решений** значение метрики *F1*-мера с балансировкой классов с помощью аргумента `class_weight` на валидационной выборке— **0.57**;\n",
    "- Модель **Случайный лес** значение метрики *F1*-мера с балансировкой классов с помощью аргумента `class_weight` на валидационной выборке— **0.64**;\n",
    "- Модель **Логистическая регрессия** значение метрики *F1*-мера с балансировкой классов с помощью аргумента `class_weight` на валидационной выборке— **0.50**;\n",
    "- Модель **Дерево решений** значение метрики *F1*-мера с балансировкой классов с помощью техники **upsampled** на валидационной выборке— **0.57**;\n",
    "- Модель **Случайный лес** значение метрики *F1*-мера с балансировкой классов с помощью техники **upsampled** на валидационной выборке— **0.57**;\n",
    "- Модель **Логистическая регрессия** значение метрики *F1*-мера с балансировкой классов с помощью техники **upsampled** на валидационной выборке— **0.50**;\n",
    "- Модель **Дерево решений** значение метрики *F1*-мера с балансировкой классов с помощью техники **downsample** на валидационной выборке— **0.57**;\n",
    "- Модель **Случайный лес** значение метрики *F1*-мера с балансировкой классов с помощью техники **downsample** на валидационной выборке— **0.58**;\n",
    "- Модель **Логистическая регрессия** значение метрики *F1*-мера с балансировкой классов с помощью техники **downsample** на валидационной выборке— **0.50**;\n",
    "\n",
    "На основании проведенной проверки обучения моделей на валидационной выборке была выбрана модель **Случайный лес** с гиперпараметрами `n_estimators` — количество деревьев в лесу равное **50** и `max_depth` — глубина дерева равное **9** при балансировке классов с помощью аргумента `class_weight`для проверки на тестовой выборке, на тестовой выборке данная модель показала значение метрики *F1*-мера равное **0.60**, что не сильно меньше, чем на валидационной выборке.\n",
    "\n",
    "На основании выше перечисленного для прогноза ухода клиента от банка необходимо использовать модель **Случайный лес**, так как данная модель показала максимальную значение по метрике *F1*-мера **0.60** и это значение не сильно меньше, чем на валидационной выборке."
   ]
  }
 ],
 "metadata": {
  "kernelspec": {
   "display_name": "Python 3 (ipykernel)",
   "language": "python",
   "name": "python3"
  },
  "language_info": {
   "codemirror_mode": {
    "name": "ipython",
    "version": 3
   },
   "file_extension": ".py",
   "mimetype": "text/x-python",
   "name": "python",
   "nbconvert_exporter": "python",
   "pygments_lexer": "ipython3",
   "version": "3.9.13"
  },
  "toc": {
   "base_numbering": 1,
   "nav_menu": {},
   "number_sections": true,
   "sideBar": true,
   "skip_h1_title": true,
   "title_cell": "Table of Contents",
   "title_sidebar": "Contents",
   "toc_cell": false,
   "toc_position": {},
   "toc_section_display": true,
   "toc_window_display": false
  }
 },
 "nbformat": 4,
 "nbformat_minor": 5
}
