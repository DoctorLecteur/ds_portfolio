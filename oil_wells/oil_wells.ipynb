{
 "cells": [
  {
   "cell_type": "markdown",
   "id": "8e000f72",
   "metadata": {},
   "source": [
    "# Выбор локации для скважины"
   ]
  },
  {
   "cell_type": "markdown",
   "id": "e5f0f0c8",
   "metadata": {},
   "source": [
    "## Загрузка и подготовка данных"
   ]
  },
  {
   "cell_type": "markdown",
   "id": "7662d6b7",
   "metadata": {},
   "source": [
    "Откроем файлы с данными и изучим их, для этого подключим библиотеку `pandas` помимо неё подключим еще остальные библиотеки, которые нам пригодятся. Для того чтобы прочитать данные из датасетов воспользуемся методом `read_csv`, для получения общей информации о датасетах воспользуемся методом `info`."
   ]
  },
  {
   "cell_type": "code",
   "execution_count": 1,
   "id": "4415c50e",
   "metadata": {},
   "outputs": [],
   "source": [
    "import pandas as pd\n",
    "import matplotlib.pyplot as plt\n",
    "import numpy as np\n",
    "from sklearn.model_selection import train_test_split\n",
    "from sklearn import linear_model\n",
    "from sklearn.metrics import mean_squared_error, r2_score"
   ]
  },
  {
   "cell_type": "code",
   "execution_count": 2,
   "id": "6950c67c",
   "metadata": {},
   "outputs": [
    {
     "data": {
      "text/html": [
       "<div>\n",
       "<style scoped>\n",
       "    .dataframe tbody tr th:only-of-type {\n",
       "        vertical-align: middle;\n",
       "    }\n",
       "\n",
       "    .dataframe tbody tr th {\n",
       "        vertical-align: top;\n",
       "    }\n",
       "\n",
       "    .dataframe thead th {\n",
       "        text-align: right;\n",
       "    }\n",
       "</style>\n",
       "<table border=\"1\" class=\"dataframe\">\n",
       "  <thead>\n",
       "    <tr style=\"text-align: right;\">\n",
       "      <th></th>\n",
       "      <th>id</th>\n",
       "      <th>f0</th>\n",
       "      <th>f1</th>\n",
       "      <th>f2</th>\n",
       "      <th>product</th>\n",
       "    </tr>\n",
       "  </thead>\n",
       "  <tbody>\n",
       "    <tr>\n",
       "      <th>0</th>\n",
       "      <td>txEyH</td>\n",
       "      <td>0.705745</td>\n",
       "      <td>-0.497823</td>\n",
       "      <td>1.221170</td>\n",
       "      <td>105.280062</td>\n",
       "    </tr>\n",
       "    <tr>\n",
       "      <th>1</th>\n",
       "      <td>2acmU</td>\n",
       "      <td>1.334711</td>\n",
       "      <td>-0.340164</td>\n",
       "      <td>4.365080</td>\n",
       "      <td>73.037750</td>\n",
       "    </tr>\n",
       "    <tr>\n",
       "      <th>2</th>\n",
       "      <td>409Wp</td>\n",
       "      <td>1.022732</td>\n",
       "      <td>0.151990</td>\n",
       "      <td>1.419926</td>\n",
       "      <td>85.265647</td>\n",
       "    </tr>\n",
       "    <tr>\n",
       "      <th>3</th>\n",
       "      <td>iJLyR</td>\n",
       "      <td>-0.032172</td>\n",
       "      <td>0.139033</td>\n",
       "      <td>2.978566</td>\n",
       "      <td>168.620776</td>\n",
       "    </tr>\n",
       "    <tr>\n",
       "      <th>4</th>\n",
       "      <td>Xdl7t</td>\n",
       "      <td>1.988431</td>\n",
       "      <td>0.155413</td>\n",
       "      <td>4.751769</td>\n",
       "      <td>154.036647</td>\n",
       "    </tr>\n",
       "  </tbody>\n",
       "</table>\n",
       "</div>"
      ],
      "text/plain": [
       "      id        f0        f1        f2     product\n",
       "0  txEyH  0.705745 -0.497823  1.221170  105.280062\n",
       "1  2acmU  1.334711 -0.340164  4.365080   73.037750\n",
       "2  409Wp  1.022732  0.151990  1.419926   85.265647\n",
       "3  iJLyR -0.032172  0.139033  2.978566  168.620776\n",
       "4  Xdl7t  1.988431  0.155413  4.751769  154.036647"
      ]
     },
     "execution_count": 2,
     "metadata": {},
     "output_type": "execute_result"
    }
   ],
   "source": [
    "try:\n",
    "    geo_data_0 = pd.read_csv('/datasets/geo_data_0.csv')\n",
    "    geo_data_1 = pd.read_csv('/datasets/geo_data_1.csv')\n",
    "    geo_data_2 = pd.read_csv('/datasets/geo_data_2.csv')\n",
    "except:\n",
    "    geo_data_0 = pd.read_csv('geo_data_0.csv')\n",
    "    geo_data_1 = pd.read_csv('geo_data_1.csv')\n",
    "    geo_data_2 = pd.read_csv('geo_data_2.csv')\n",
    "geo_data_0.head()"
   ]
  },
  {
   "cell_type": "code",
   "execution_count": 3,
   "id": "2a33e259",
   "metadata": {},
   "outputs": [
    {
     "data": {
      "text/html": [
       "<div>\n",
       "<style scoped>\n",
       "    .dataframe tbody tr th:only-of-type {\n",
       "        vertical-align: middle;\n",
       "    }\n",
       "\n",
       "    .dataframe tbody tr th {\n",
       "        vertical-align: top;\n",
       "    }\n",
       "\n",
       "    .dataframe thead th {\n",
       "        text-align: right;\n",
       "    }\n",
       "</style>\n",
       "<table border=\"1\" class=\"dataframe\">\n",
       "  <thead>\n",
       "    <tr style=\"text-align: right;\">\n",
       "      <th></th>\n",
       "      <th>id</th>\n",
       "      <th>f0</th>\n",
       "      <th>f1</th>\n",
       "      <th>f2</th>\n",
       "      <th>product</th>\n",
       "    </tr>\n",
       "  </thead>\n",
       "  <tbody>\n",
       "    <tr>\n",
       "      <th>0</th>\n",
       "      <td>kBEdx</td>\n",
       "      <td>-15.001348</td>\n",
       "      <td>-8.276000</td>\n",
       "      <td>-0.005876</td>\n",
       "      <td>3.179103</td>\n",
       "    </tr>\n",
       "    <tr>\n",
       "      <th>1</th>\n",
       "      <td>62mP7</td>\n",
       "      <td>14.272088</td>\n",
       "      <td>-3.475083</td>\n",
       "      <td>0.999183</td>\n",
       "      <td>26.953261</td>\n",
       "    </tr>\n",
       "    <tr>\n",
       "      <th>2</th>\n",
       "      <td>vyE1P</td>\n",
       "      <td>6.263187</td>\n",
       "      <td>-5.948386</td>\n",
       "      <td>5.001160</td>\n",
       "      <td>134.766305</td>\n",
       "    </tr>\n",
       "    <tr>\n",
       "      <th>3</th>\n",
       "      <td>KcrkZ</td>\n",
       "      <td>-13.081196</td>\n",
       "      <td>-11.506057</td>\n",
       "      <td>4.999415</td>\n",
       "      <td>137.945408</td>\n",
       "    </tr>\n",
       "    <tr>\n",
       "      <th>4</th>\n",
       "      <td>AHL4O</td>\n",
       "      <td>12.702195</td>\n",
       "      <td>-8.147433</td>\n",
       "      <td>5.004363</td>\n",
       "      <td>134.766305</td>\n",
       "    </tr>\n",
       "  </tbody>\n",
       "</table>\n",
       "</div>"
      ],
      "text/plain": [
       "      id         f0         f1        f2     product\n",
       "0  kBEdx -15.001348  -8.276000 -0.005876    3.179103\n",
       "1  62mP7  14.272088  -3.475083  0.999183   26.953261\n",
       "2  vyE1P   6.263187  -5.948386  5.001160  134.766305\n",
       "3  KcrkZ -13.081196 -11.506057  4.999415  137.945408\n",
       "4  AHL4O  12.702195  -8.147433  5.004363  134.766305"
      ]
     },
     "execution_count": 3,
     "metadata": {},
     "output_type": "execute_result"
    }
   ],
   "source": [
    "geo_data_1.head()"
   ]
  },
  {
   "cell_type": "code",
   "execution_count": 4,
   "id": "3eccedee",
   "metadata": {},
   "outputs": [
    {
     "data": {
      "text/html": [
       "<div>\n",
       "<style scoped>\n",
       "    .dataframe tbody tr th:only-of-type {\n",
       "        vertical-align: middle;\n",
       "    }\n",
       "\n",
       "    .dataframe tbody tr th {\n",
       "        vertical-align: top;\n",
       "    }\n",
       "\n",
       "    .dataframe thead th {\n",
       "        text-align: right;\n",
       "    }\n",
       "</style>\n",
       "<table border=\"1\" class=\"dataframe\">\n",
       "  <thead>\n",
       "    <tr style=\"text-align: right;\">\n",
       "      <th></th>\n",
       "      <th>id</th>\n",
       "      <th>f0</th>\n",
       "      <th>f1</th>\n",
       "      <th>f2</th>\n",
       "      <th>product</th>\n",
       "    </tr>\n",
       "  </thead>\n",
       "  <tbody>\n",
       "    <tr>\n",
       "      <th>0</th>\n",
       "      <td>fwXo0</td>\n",
       "      <td>-1.146987</td>\n",
       "      <td>0.963328</td>\n",
       "      <td>-0.828965</td>\n",
       "      <td>27.758673</td>\n",
       "    </tr>\n",
       "    <tr>\n",
       "      <th>1</th>\n",
       "      <td>WJtFt</td>\n",
       "      <td>0.262778</td>\n",
       "      <td>0.269839</td>\n",
       "      <td>-2.530187</td>\n",
       "      <td>56.069697</td>\n",
       "    </tr>\n",
       "    <tr>\n",
       "      <th>2</th>\n",
       "      <td>ovLUW</td>\n",
       "      <td>0.194587</td>\n",
       "      <td>0.289035</td>\n",
       "      <td>-5.586433</td>\n",
       "      <td>62.871910</td>\n",
       "    </tr>\n",
       "    <tr>\n",
       "      <th>3</th>\n",
       "      <td>q6cA6</td>\n",
       "      <td>2.236060</td>\n",
       "      <td>-0.553760</td>\n",
       "      <td>0.930038</td>\n",
       "      <td>114.572842</td>\n",
       "    </tr>\n",
       "    <tr>\n",
       "      <th>4</th>\n",
       "      <td>WPMUX</td>\n",
       "      <td>-0.515993</td>\n",
       "      <td>1.716266</td>\n",
       "      <td>5.899011</td>\n",
       "      <td>149.600746</td>\n",
       "    </tr>\n",
       "  </tbody>\n",
       "</table>\n",
       "</div>"
      ],
      "text/plain": [
       "      id        f0        f1        f2     product\n",
       "0  fwXo0 -1.146987  0.963328 -0.828965   27.758673\n",
       "1  WJtFt  0.262778  0.269839 -2.530187   56.069697\n",
       "2  ovLUW  0.194587  0.289035 -5.586433   62.871910\n",
       "3  q6cA6  2.236060 -0.553760  0.930038  114.572842\n",
       "4  WPMUX -0.515993  1.716266  5.899011  149.600746"
      ]
     },
     "execution_count": 4,
     "metadata": {},
     "output_type": "execute_result"
    }
   ],
   "source": [
    "geo_data_2.head()"
   ]
  },
  {
   "cell_type": "code",
   "execution_count": 5,
   "id": "aa70a78c",
   "metadata": {},
   "outputs": [
    {
     "name": "stdout",
     "output_type": "stream",
     "text": [
      "<class 'pandas.core.frame.DataFrame'>\n",
      "RangeIndex: 100000 entries, 0 to 99999\n",
      "Data columns (total 5 columns):\n",
      " #   Column   Non-Null Count   Dtype  \n",
      "---  ------   --------------   -----  \n",
      " 0   id       100000 non-null  object \n",
      " 1   f0       100000 non-null  float64\n",
      " 2   f1       100000 non-null  float64\n",
      " 3   f2       100000 non-null  float64\n",
      " 4   product  100000 non-null  float64\n",
      "dtypes: float64(4), object(1)\n",
      "memory usage: 3.8+ MB\n"
     ]
    }
   ],
   "source": [
    "geo_data_0.info()"
   ]
  },
  {
   "cell_type": "code",
   "execution_count": 6,
   "id": "bcbb136b",
   "metadata": {},
   "outputs": [
    {
     "name": "stdout",
     "output_type": "stream",
     "text": [
      "<class 'pandas.core.frame.DataFrame'>\n",
      "RangeIndex: 100000 entries, 0 to 99999\n",
      "Data columns (total 5 columns):\n",
      " #   Column   Non-Null Count   Dtype  \n",
      "---  ------   --------------   -----  \n",
      " 0   id       100000 non-null  object \n",
      " 1   f0       100000 non-null  float64\n",
      " 2   f1       100000 non-null  float64\n",
      " 3   f2       100000 non-null  float64\n",
      " 4   product  100000 non-null  float64\n",
      "dtypes: float64(4), object(1)\n",
      "memory usage: 3.8+ MB\n"
     ]
    }
   ],
   "source": [
    "geo_data_1.info()"
   ]
  },
  {
   "cell_type": "code",
   "execution_count": 7,
   "id": "772a4b08",
   "metadata": {},
   "outputs": [
    {
     "name": "stdout",
     "output_type": "stream",
     "text": [
      "<class 'pandas.core.frame.DataFrame'>\n",
      "RangeIndex: 100000 entries, 0 to 99999\n",
      "Data columns (total 5 columns):\n",
      " #   Column   Non-Null Count   Dtype  \n",
      "---  ------   --------------   -----  \n",
      " 0   id       100000 non-null  object \n",
      " 1   f0       100000 non-null  float64\n",
      " 2   f1       100000 non-null  float64\n",
      " 3   f2       100000 non-null  float64\n",
      " 4   product  100000 non-null  float64\n",
      "dtypes: float64(4), object(1)\n",
      "memory usage: 3.8+ MB\n"
     ]
    }
   ],
   "source": [
    "geo_data_2.info()"
   ]
  },
  {
   "cell_type": "markdown",
   "id": "188a579a",
   "metadata": {},
   "source": [
    "По данным видно, что пропусков в столбцах нет, также сразу можно заметить, что у всех столбцов корректный тип данных. Наименование столбцов корректное, соотвествуют стандарту Python. Проверим нет ли явных дубликатов в датасетах, вдруг продублировали скважину с одним id и одинаковыми числовыми данными несколько раз:"
   ]
  },
  {
   "cell_type": "code",
   "execution_count": 8,
   "id": "0c871a11",
   "metadata": {
    "scrolled": true
   },
   "outputs": [
    {
     "name": "stdout",
     "output_type": "stream",
     "text": [
      "0\n",
      "0\n",
      "0\n"
     ]
    }
   ],
   "source": [
    "print(geo_data_0.duplicated().sum())\n",
    "print(geo_data_1.duplicated().sum())\n",
    "print(geo_data_2.duplicated().sum())"
   ]
  },
  {
   "cell_type": "markdown",
   "id": "95af0faf",
   "metadata": {},
   "source": [
    "Посмотрим теперь на корреляцию данных в разных регионах:"
   ]
  },
  {
   "cell_type": "code",
   "execution_count": 9,
   "id": "4cc2947a",
   "metadata": {},
   "outputs": [
    {
     "data": {
      "text/html": [
       "<div>\n",
       "<style scoped>\n",
       "    .dataframe tbody tr th:only-of-type {\n",
       "        vertical-align: middle;\n",
       "    }\n",
       "\n",
       "    .dataframe tbody tr th {\n",
       "        vertical-align: top;\n",
       "    }\n",
       "\n",
       "    .dataframe thead th {\n",
       "        text-align: right;\n",
       "    }\n",
       "</style>\n",
       "<table border=\"1\" class=\"dataframe\">\n",
       "  <thead>\n",
       "    <tr style=\"text-align: right;\">\n",
       "      <th></th>\n",
       "      <th>f0</th>\n",
       "      <th>f1</th>\n",
       "      <th>f2</th>\n",
       "      <th>product</th>\n",
       "    </tr>\n",
       "  </thead>\n",
       "  <tbody>\n",
       "    <tr>\n",
       "      <th>f0</th>\n",
       "      <td>1.000000</td>\n",
       "      <td>-0.440723</td>\n",
       "      <td>-0.003153</td>\n",
       "      <td>0.143536</td>\n",
       "    </tr>\n",
       "    <tr>\n",
       "      <th>f1</th>\n",
       "      <td>-0.440723</td>\n",
       "      <td>1.000000</td>\n",
       "      <td>0.001724</td>\n",
       "      <td>-0.192356</td>\n",
       "    </tr>\n",
       "    <tr>\n",
       "      <th>f2</th>\n",
       "      <td>-0.003153</td>\n",
       "      <td>0.001724</td>\n",
       "      <td>1.000000</td>\n",
       "      <td>0.483663</td>\n",
       "    </tr>\n",
       "    <tr>\n",
       "      <th>product</th>\n",
       "      <td>0.143536</td>\n",
       "      <td>-0.192356</td>\n",
       "      <td>0.483663</td>\n",
       "      <td>1.000000</td>\n",
       "    </tr>\n",
       "  </tbody>\n",
       "</table>\n",
       "</div>"
      ],
      "text/plain": [
       "               f0        f1        f2   product\n",
       "f0       1.000000 -0.440723 -0.003153  0.143536\n",
       "f1      -0.440723  1.000000  0.001724 -0.192356\n",
       "f2      -0.003153  0.001724  1.000000  0.483663\n",
       "product  0.143536 -0.192356  0.483663  1.000000"
      ]
     },
     "execution_count": 9,
     "metadata": {},
     "output_type": "execute_result"
    }
   ],
   "source": [
    "geo_data_0.corr()"
   ]
  },
  {
   "cell_type": "code",
   "execution_count": 10,
   "id": "f9111a65",
   "metadata": {},
   "outputs": [
    {
     "data": {
      "text/html": [
       "<div>\n",
       "<style scoped>\n",
       "    .dataframe tbody tr th:only-of-type {\n",
       "        vertical-align: middle;\n",
       "    }\n",
       "\n",
       "    .dataframe tbody tr th {\n",
       "        vertical-align: top;\n",
       "    }\n",
       "\n",
       "    .dataframe thead th {\n",
       "        text-align: right;\n",
       "    }\n",
       "</style>\n",
       "<table border=\"1\" class=\"dataframe\">\n",
       "  <thead>\n",
       "    <tr style=\"text-align: right;\">\n",
       "      <th></th>\n",
       "      <th>f0</th>\n",
       "      <th>f1</th>\n",
       "      <th>f2</th>\n",
       "      <th>product</th>\n",
       "    </tr>\n",
       "  </thead>\n",
       "  <tbody>\n",
       "    <tr>\n",
       "      <th>f0</th>\n",
       "      <td>1.000000</td>\n",
       "      <td>0.182287</td>\n",
       "      <td>-0.001777</td>\n",
       "      <td>-0.030491</td>\n",
       "    </tr>\n",
       "    <tr>\n",
       "      <th>f1</th>\n",
       "      <td>0.182287</td>\n",
       "      <td>1.000000</td>\n",
       "      <td>-0.002595</td>\n",
       "      <td>-0.010155</td>\n",
       "    </tr>\n",
       "    <tr>\n",
       "      <th>f2</th>\n",
       "      <td>-0.001777</td>\n",
       "      <td>-0.002595</td>\n",
       "      <td>1.000000</td>\n",
       "      <td>0.999397</td>\n",
       "    </tr>\n",
       "    <tr>\n",
       "      <th>product</th>\n",
       "      <td>-0.030491</td>\n",
       "      <td>-0.010155</td>\n",
       "      <td>0.999397</td>\n",
       "      <td>1.000000</td>\n",
       "    </tr>\n",
       "  </tbody>\n",
       "</table>\n",
       "</div>"
      ],
      "text/plain": [
       "               f0        f1        f2   product\n",
       "f0       1.000000  0.182287 -0.001777 -0.030491\n",
       "f1       0.182287  1.000000 -0.002595 -0.010155\n",
       "f2      -0.001777 -0.002595  1.000000  0.999397\n",
       "product -0.030491 -0.010155  0.999397  1.000000"
      ]
     },
     "execution_count": 10,
     "metadata": {},
     "output_type": "execute_result"
    }
   ],
   "source": [
    "geo_data_1.corr()"
   ]
  },
  {
   "cell_type": "code",
   "execution_count": 11,
   "id": "8766adbd",
   "metadata": {},
   "outputs": [
    {
     "data": {
      "text/html": [
       "<div>\n",
       "<style scoped>\n",
       "    .dataframe tbody tr th:only-of-type {\n",
       "        vertical-align: middle;\n",
       "    }\n",
       "\n",
       "    .dataframe tbody tr th {\n",
       "        vertical-align: top;\n",
       "    }\n",
       "\n",
       "    .dataframe thead th {\n",
       "        text-align: right;\n",
       "    }\n",
       "</style>\n",
       "<table border=\"1\" class=\"dataframe\">\n",
       "  <thead>\n",
       "    <tr style=\"text-align: right;\">\n",
       "      <th></th>\n",
       "      <th>f0</th>\n",
       "      <th>f1</th>\n",
       "      <th>f2</th>\n",
       "      <th>product</th>\n",
       "    </tr>\n",
       "  </thead>\n",
       "  <tbody>\n",
       "    <tr>\n",
       "      <th>f0</th>\n",
       "      <td>1.000000</td>\n",
       "      <td>0.000528</td>\n",
       "      <td>-0.000448</td>\n",
       "      <td>-0.001987</td>\n",
       "    </tr>\n",
       "    <tr>\n",
       "      <th>f1</th>\n",
       "      <td>0.000528</td>\n",
       "      <td>1.000000</td>\n",
       "      <td>0.000779</td>\n",
       "      <td>-0.001012</td>\n",
       "    </tr>\n",
       "    <tr>\n",
       "      <th>f2</th>\n",
       "      <td>-0.000448</td>\n",
       "      <td>0.000779</td>\n",
       "      <td>1.000000</td>\n",
       "      <td>0.445871</td>\n",
       "    </tr>\n",
       "    <tr>\n",
       "      <th>product</th>\n",
       "      <td>-0.001987</td>\n",
       "      <td>-0.001012</td>\n",
       "      <td>0.445871</td>\n",
       "      <td>1.000000</td>\n",
       "    </tr>\n",
       "  </tbody>\n",
       "</table>\n",
       "</div>"
      ],
      "text/plain": [
       "               f0        f1        f2   product\n",
       "f0       1.000000  0.000528 -0.000448 -0.001987\n",
       "f1       0.000528  1.000000  0.000779 -0.001012\n",
       "f2      -0.000448  0.000779  1.000000  0.445871\n",
       "product -0.001987 -0.001012  0.445871  1.000000"
      ]
     },
     "execution_count": 11,
     "metadata": {},
     "output_type": "execute_result"
    }
   ],
   "source": [
    "geo_data_2.corr()"
   ]
  },
  {
   "cell_type": "markdown",
   "id": "14818bb6",
   "metadata": {},
   "source": [
    "По корреляциям видно, что между собой корреляриуют столбцы `f2` и `product` особенно это заметно во 2 регионе, где корреляция у этих столбцов почти равна 1 и составляет **0.99**, что говорит о том у этих столбцев сильная положительная взаимосвязь, то есть при увелечений значений в столбце `f2`, будет увеличено и значение в столбце `product`. В 1 и 3 регионе тоже корреляриуют столбцы `f2` и `product`, но не так выражено как во 2 регионе, значения корреляций равны **0.48** и **0.44** соответственно, можно сказать что здесь почти что средняя взаимосвязь между столбцами `f2` и `product`. По остальным столбцам корреляции равно почти нулю, что говорит о том что между столбцами либо нет взаимосвязи, либо она очень слабая."
   ]
  },
  {
   "cell_type": "markdown",
   "id": "d3cc11b2",
   "metadata": {},
   "source": [
    "Мы сделали подготовку данных можем теперь переходить к обучению моделей для решения нашей задачи."
   ]
  },
  {
   "cell_type": "markdown",
   "id": "93206dc5",
   "metadata": {},
   "source": [
    "## Обучение и проверка модели"
   ]
  },
  {
   "cell_type": "markdown",
   "id": "4e7265bb",
   "metadata": {},
   "source": [
    "Прежде, чем разделить данные на выборки, уберем из датасетов те столбцы, которые нам не пригодятся в обучении модели — это столбец:\n",
    "\n",
    "- `id` — уникальный идентификатор скважины.\n",
    "\n",
    "Это техниеский столбец, он не несет никакой информации о запасах нефти, поэтому им можно пренебречь:"
   ]
  },
  {
   "cell_type": "code",
   "execution_count": 12,
   "id": "d718baed",
   "metadata": {},
   "outputs": [
    {
     "data": {
      "text/html": [
       "<div>\n",
       "<style scoped>\n",
       "    .dataframe tbody tr th:only-of-type {\n",
       "        vertical-align: middle;\n",
       "    }\n",
       "\n",
       "    .dataframe tbody tr th {\n",
       "        vertical-align: top;\n",
       "    }\n",
       "\n",
       "    .dataframe thead th {\n",
       "        text-align: right;\n",
       "    }\n",
       "</style>\n",
       "<table border=\"1\" class=\"dataframe\">\n",
       "  <thead>\n",
       "    <tr style=\"text-align: right;\">\n",
       "      <th></th>\n",
       "      <th>f0</th>\n",
       "      <th>f1</th>\n",
       "      <th>f2</th>\n",
       "      <th>product</th>\n",
       "    </tr>\n",
       "  </thead>\n",
       "  <tbody>\n",
       "    <tr>\n",
       "      <th>0</th>\n",
       "      <td>0.705745</td>\n",
       "      <td>-0.497823</td>\n",
       "      <td>1.221170</td>\n",
       "      <td>105.280062</td>\n",
       "    </tr>\n",
       "    <tr>\n",
       "      <th>1</th>\n",
       "      <td>1.334711</td>\n",
       "      <td>-0.340164</td>\n",
       "      <td>4.365080</td>\n",
       "      <td>73.037750</td>\n",
       "    </tr>\n",
       "    <tr>\n",
       "      <th>2</th>\n",
       "      <td>1.022732</td>\n",
       "      <td>0.151990</td>\n",
       "      <td>1.419926</td>\n",
       "      <td>85.265647</td>\n",
       "    </tr>\n",
       "    <tr>\n",
       "      <th>3</th>\n",
       "      <td>-0.032172</td>\n",
       "      <td>0.139033</td>\n",
       "      <td>2.978566</td>\n",
       "      <td>168.620776</td>\n",
       "    </tr>\n",
       "    <tr>\n",
       "      <th>4</th>\n",
       "      <td>1.988431</td>\n",
       "      <td>0.155413</td>\n",
       "      <td>4.751769</td>\n",
       "      <td>154.036647</td>\n",
       "    </tr>\n",
       "  </tbody>\n",
       "</table>\n",
       "</div>"
      ],
      "text/plain": [
       "         f0        f1        f2     product\n",
       "0  0.705745 -0.497823  1.221170  105.280062\n",
       "1  1.334711 -0.340164  4.365080   73.037750\n",
       "2  1.022732  0.151990  1.419926   85.265647\n",
       "3 -0.032172  0.139033  2.978566  168.620776\n",
       "4  1.988431  0.155413  4.751769  154.036647"
      ]
     },
     "execution_count": 12,
     "metadata": {},
     "output_type": "execute_result"
    }
   ],
   "source": [
    "geo_data_0 = geo_data_0.drop(['id'], axis=1)\n",
    "geo_data_0.head()"
   ]
  },
  {
   "cell_type": "code",
   "execution_count": 13,
   "id": "023eb871",
   "metadata": {},
   "outputs": [
    {
     "data": {
      "text/html": [
       "<div>\n",
       "<style scoped>\n",
       "    .dataframe tbody tr th:only-of-type {\n",
       "        vertical-align: middle;\n",
       "    }\n",
       "\n",
       "    .dataframe tbody tr th {\n",
       "        vertical-align: top;\n",
       "    }\n",
       "\n",
       "    .dataframe thead th {\n",
       "        text-align: right;\n",
       "    }\n",
       "</style>\n",
       "<table border=\"1\" class=\"dataframe\">\n",
       "  <thead>\n",
       "    <tr style=\"text-align: right;\">\n",
       "      <th></th>\n",
       "      <th>f0</th>\n",
       "      <th>f1</th>\n",
       "      <th>f2</th>\n",
       "      <th>product</th>\n",
       "    </tr>\n",
       "  </thead>\n",
       "  <tbody>\n",
       "    <tr>\n",
       "      <th>0</th>\n",
       "      <td>-15.001348</td>\n",
       "      <td>-8.276000</td>\n",
       "      <td>-0.005876</td>\n",
       "      <td>3.179103</td>\n",
       "    </tr>\n",
       "    <tr>\n",
       "      <th>1</th>\n",
       "      <td>14.272088</td>\n",
       "      <td>-3.475083</td>\n",
       "      <td>0.999183</td>\n",
       "      <td>26.953261</td>\n",
       "    </tr>\n",
       "    <tr>\n",
       "      <th>2</th>\n",
       "      <td>6.263187</td>\n",
       "      <td>-5.948386</td>\n",
       "      <td>5.001160</td>\n",
       "      <td>134.766305</td>\n",
       "    </tr>\n",
       "    <tr>\n",
       "      <th>3</th>\n",
       "      <td>-13.081196</td>\n",
       "      <td>-11.506057</td>\n",
       "      <td>4.999415</td>\n",
       "      <td>137.945408</td>\n",
       "    </tr>\n",
       "    <tr>\n",
       "      <th>4</th>\n",
       "      <td>12.702195</td>\n",
       "      <td>-8.147433</td>\n",
       "      <td>5.004363</td>\n",
       "      <td>134.766305</td>\n",
       "    </tr>\n",
       "  </tbody>\n",
       "</table>\n",
       "</div>"
      ],
      "text/plain": [
       "          f0         f1        f2     product\n",
       "0 -15.001348  -8.276000 -0.005876    3.179103\n",
       "1  14.272088  -3.475083  0.999183   26.953261\n",
       "2   6.263187  -5.948386  5.001160  134.766305\n",
       "3 -13.081196 -11.506057  4.999415  137.945408\n",
       "4  12.702195  -8.147433  5.004363  134.766305"
      ]
     },
     "execution_count": 13,
     "metadata": {},
     "output_type": "execute_result"
    }
   ],
   "source": [
    "geo_data_1 = geo_data_1.drop(['id'], axis=1)\n",
    "geo_data_1.head()"
   ]
  },
  {
   "cell_type": "code",
   "execution_count": 14,
   "id": "53cc0be8",
   "metadata": {},
   "outputs": [
    {
     "data": {
      "text/html": [
       "<div>\n",
       "<style scoped>\n",
       "    .dataframe tbody tr th:only-of-type {\n",
       "        vertical-align: middle;\n",
       "    }\n",
       "\n",
       "    .dataframe tbody tr th {\n",
       "        vertical-align: top;\n",
       "    }\n",
       "\n",
       "    .dataframe thead th {\n",
       "        text-align: right;\n",
       "    }\n",
       "</style>\n",
       "<table border=\"1\" class=\"dataframe\">\n",
       "  <thead>\n",
       "    <tr style=\"text-align: right;\">\n",
       "      <th></th>\n",
       "      <th>f0</th>\n",
       "      <th>f1</th>\n",
       "      <th>f2</th>\n",
       "      <th>product</th>\n",
       "    </tr>\n",
       "  </thead>\n",
       "  <tbody>\n",
       "    <tr>\n",
       "      <th>0</th>\n",
       "      <td>-1.146987</td>\n",
       "      <td>0.963328</td>\n",
       "      <td>-0.828965</td>\n",
       "      <td>27.758673</td>\n",
       "    </tr>\n",
       "    <tr>\n",
       "      <th>1</th>\n",
       "      <td>0.262778</td>\n",
       "      <td>0.269839</td>\n",
       "      <td>-2.530187</td>\n",
       "      <td>56.069697</td>\n",
       "    </tr>\n",
       "    <tr>\n",
       "      <th>2</th>\n",
       "      <td>0.194587</td>\n",
       "      <td>0.289035</td>\n",
       "      <td>-5.586433</td>\n",
       "      <td>62.871910</td>\n",
       "    </tr>\n",
       "    <tr>\n",
       "      <th>3</th>\n",
       "      <td>2.236060</td>\n",
       "      <td>-0.553760</td>\n",
       "      <td>0.930038</td>\n",
       "      <td>114.572842</td>\n",
       "    </tr>\n",
       "    <tr>\n",
       "      <th>4</th>\n",
       "      <td>-0.515993</td>\n",
       "      <td>1.716266</td>\n",
       "      <td>5.899011</td>\n",
       "      <td>149.600746</td>\n",
       "    </tr>\n",
       "  </tbody>\n",
       "</table>\n",
       "</div>"
      ],
      "text/plain": [
       "         f0        f1        f2     product\n",
       "0 -1.146987  0.963328 -0.828965   27.758673\n",
       "1  0.262778  0.269839 -2.530187   56.069697\n",
       "2  0.194587  0.289035 -5.586433   62.871910\n",
       "3  2.236060 -0.553760  0.930038  114.572842\n",
       "4 -0.515993  1.716266  5.899011  149.600746"
      ]
     },
     "execution_count": 14,
     "metadata": {},
     "output_type": "execute_result"
    }
   ],
   "source": [
    "geo_data_2 = geo_data_2.drop(['id'], axis=1)\n",
    "geo_data_2.head()"
   ]
  },
  {
   "cell_type": "markdown",
   "id": "5e3f7af0",
   "metadata": {},
   "source": [
    "Столбец `id` во всех датасетах удалился корректно. Теперь в датасетах остались только столбцы с числовыми данными, то есть количественные признаки. Числовые значения в столбцах `f0`, `f1`, `f2` имеют небольшой разброс значений и также судя по всему имеют примерно одинаковый диапазон значений, поэтому данные признаки можно не масштабировать. Можем переходить к обучению модели для предсказания запасов нефти в разных регионах, но перед этим разделим данные из каждого региона на обучающую и валидационную выборки в соотношении 75:25:"
   ]
  },
  {
   "cell_type": "code",
   "execution_count": 15,
   "id": "1d198793",
   "metadata": {},
   "outputs": [
    {
     "name": "stdout",
     "output_type": "stream",
     "text": [
      "(75000, 4)\n",
      "(25000, 4)\n",
      "(75000, 4)\n",
      "(25000, 4)\n",
      "(75000, 4)\n",
      "(25000, 4)\n"
     ]
    }
   ],
   "source": [
    "geo_data_0_train, geo_data_0_valid = train_test_split(geo_data_0, test_size=0.25, random_state=12345)\n",
    "geo_data_1_train, geo_data_1_valid = train_test_split(geo_data_1, test_size=0.25, random_state=12345)\n",
    "geo_data_2_train, geo_data_2_valid = train_test_split(geo_data_2, test_size=0.25, random_state=12345)\n",
    "print(geo_data_0_train.shape)\n",
    "print(geo_data_0_valid.shape)\n",
    "print(geo_data_1_train.shape)\n",
    "print(geo_data_1_valid.shape)\n",
    "print(geo_data_2_train.shape)\n",
    "print(geo_data_2_valid.shape)"
   ]
  },
  {
   "cell_type": "markdown",
   "id": "458bfbf4",
   "metadata": {},
   "source": [
    "Теперь разделим данных во всех выборках для обучения и проверки модели, для этого напишем небольшую функцию, которая будет разделять данные по признакам. В качестве признаков будем брать значения в столбцах `f0`, `f1`, `f2`, а в качестве целового признака, который необходимо будет предсказать, значение в столбце `product` — объём запасов в скважине:"
   ]
  },
  {
   "cell_type": "code",
   "execution_count": 16,
   "id": "beeef72e",
   "metadata": {},
   "outputs": [],
   "source": [
    "def split_features(name_column_target_features, data):\n",
    "    '''\n",
    "    Функция разделяет данные по признакам\n",
    "    '''\n",
    "    features = data.drop([name_column_target_features], axis=1)\n",
    "    target = data[name_column_target_features]\n",
    "    \n",
    "    return features, target"
   ]
  },
  {
   "cell_type": "code",
   "execution_count": 17,
   "id": "15f020f2",
   "metadata": {},
   "outputs": [],
   "source": [
    "geo_data_0_train_features, geo_data_0_train_target = split_features('product', geo_data_0_train)\n",
    "geo_data_1_train_features, geo_data_1_train_target = split_features('product', geo_data_1_train)\n",
    "geo_data_2_train_features, geo_data_2_train_target = split_features('product', geo_data_2_train)\n",
    "\n",
    "geo_data_0_valid_features, geo_data_0_valid_target = split_features('product', geo_data_0_valid)\n",
    "geo_data_1_valid_features, geo_data_1_valid_target = split_features('product', geo_data_1_valid)\n",
    "geo_data_2_valid_features, geo_data_2_valid_target = split_features('product', geo_data_2_valid)\n",
    "\n",
    "'''\n",
    "geo_data_train_features = geo_data_train.drop(['product'], axis=1)\n",
    "geo_data_train_target = geo_data_train['product']\n",
    "\n",
    "geo_data_0_valid_features = geo_data_0_valid.drop(['product'], axis=1)\n",
    "geo_data_0_valid_target = geo_data_0_valid['product']\n",
    "\n",
    "geo_data_1_valid_features = geo_data_1_valid.drop(['product'], axis=1)\n",
    "geo_data_1_valid_target = geo_data_1_valid['product']\n",
    "\n",
    "geo_data_2_valid_features = geo_data_2_valid.drop(['product'], axis=1)\n",
    "geo_data_2_valid_target = geo_data_2_valid['product']\n",
    "'''\n",
    "pass"
   ]
  },
  {
   "cell_type": "markdown",
   "id": "c2b29936",
   "metadata": {},
   "source": [
    "Данные по признакам разделили, теперь можно приступать к обучении модели машинного обучения. Для решения нашей задачи, предсказания запасов нефти в разных регионах, возьмем модель **Линейной регрессии**, данная модель нам подходит, так как у нас только числовые признаки и она достаточно предсказуема по сравнению с другими моделями. Так как у нас несколько регионов, то на каждый регион будет обучена отдельная модель, для этого напишем отдельную функцию по обучению моделей.  Для определения насколько хорошо обучилась модель будет использовать метрику *RMSE*, так как у нас задача регрессии."
   ]
  },
  {
   "cell_type": "code",
   "execution_count": 18,
   "id": "5d852335",
   "metadata": {},
   "outputs": [],
   "source": [
    "def learn_model(features_data, target_data):\n",
    "    '''\n",
    "    Функция обучает модели Линейной регрессии\n",
    "    '''\n",
    "    model_linear_reg = linear_model.LinearRegression()\n",
    "    model_linear_reg.fit(features_data, target_data)\n",
    "    \n",
    "    return model_linear_reg"
   ]
  },
  {
   "cell_type": "markdown",
   "id": "a3a06a1d",
   "metadata": {},
   "source": [
    "Обучим модели для каждого региона:"
   ]
  },
  {
   "cell_type": "code",
   "execution_count": 19,
   "id": "5e86a4f7",
   "metadata": {},
   "outputs": [],
   "source": [
    "model_linear_reg_geo_data_0 = learn_model(geo_data_0_train_features, geo_data_0_train_target)\n",
    "model_linear_reg_geo_data_1 = learn_model(geo_data_1_train_features, geo_data_1_train_target)\n",
    "model_linear_reg_geo_data_2 = learn_model(geo_data_2_train_features, geo_data_2_train_target)"
   ]
  },
  {
   "cell_type": "markdown",
   "id": "6a56fb2c",
   "metadata": {},
   "source": [
    "Модели обучили, теперь запишем в отдельные переменные предсказания по каждой валидационной выборке, которые соответствуют различным регионам:"
   ]
  },
  {
   "cell_type": "code",
   "execution_count": 20,
   "id": "b055679a",
   "metadata": {},
   "outputs": [],
   "source": [
    "predictions_geo_data_0 = model_linear_reg_geo_data_0.predict(geo_data_0_valid_features)\n",
    "predictions_geo_data_1 = model_linear_reg_geo_data_1.predict(geo_data_1_valid_features)\n",
    "predictions_geo_data_2 = model_linear_reg_geo_data_2.predict(geo_data_2_valid_features)"
   ]
  },
  {
   "cell_type": "markdown",
   "id": "e481cbec",
   "metadata": {},
   "source": [
    "Посмотрим теперь средний запас предсказанного сырья для каждого региона и *RMSE* модели:"
   ]
  },
  {
   "cell_type": "code",
   "execution_count": 21,
   "id": "41b55b33",
   "metadata": {},
   "outputs": [
    {
     "name": "stdout",
     "output_type": "stream",
     "text": [
      "Средний запас предсказанного сырья у 1-го региона 92.59256778438035\n",
      "Средний запас предсказанного сырья у 2-го региона 68.728546895446\n",
      "Средний запас предсказанного сырья у 3-го региона 94.96504596800489\n"
     ]
    }
   ],
   "source": [
    "print('Средний запас предсказанного сырья у 1-го региона', predictions_geo_data_0.mean())\n",
    "print('Средний запас предсказанного сырья у 2-го региона', predictions_geo_data_1.mean())\n",
    "print('Средний запас предсказанного сырья у 3-го региона', predictions_geo_data_2.mean())"
   ]
  },
  {
   "cell_type": "markdown",
   "id": "19687ea5",
   "metadata": {},
   "source": [
    "Рассчитаем *RMSE* моделей по каждому региону по отдельности:"
   ]
  },
  {
   "cell_type": "code",
   "execution_count": 22,
   "id": "9e72fbe7",
   "metadata": {},
   "outputs": [],
   "source": [
    "#geo_data_valid_target = pd.concat([geo_data_0_valid_target, geo_data_1_valid_target, geo_data_2_valid_target])\n",
    "#predictions_geo_data = pd.concat([pd.Series(predictions_geo_data_0), pd.Series(predictions_geo_data_1), \n",
    "#                                  pd.Series(predictions_geo_data_2)])\n",
    "#print('RMSE модели', mean_squared_error(geo_data_valid_target, predictions_geo_data) ** 0.5)"
   ]
  },
  {
   "cell_type": "code",
   "execution_count": 23,
   "id": "1e67f63d",
   "metadata": {
    "scrolled": true
   },
   "outputs": [
    {
     "name": "stdout",
     "output_type": "stream",
     "text": [
      "RMSE модели 1-го региона 37.5794217150813\n",
      "RMSE модели 2-го региона 0.8930992867756168\n",
      "RMSE модели 3-го региона 40.02970873393434\n"
     ]
    }
   ],
   "source": [
    "print('RMSE модели 1-го региона', mean_squared_error(geo_data_0_valid_target, predictions_geo_data_0) ** 0.5)\n",
    "print('RMSE модели 2-го региона', mean_squared_error(geo_data_1_valid_target, predictions_geo_data_1) ** 0.5)\n",
    "print('RMSE модели 3-го региона', mean_squared_error(geo_data_2_valid_target, predictions_geo_data_2) ** 0.5)"
   ]
  },
  {
   "cell_type": "markdown",
   "id": "a2cc842b",
   "metadata": {},
   "source": [
    "*RMSE* у всех моделей разный, самый хороший *RMSE* у модели по 2 региону — **0.89**, что говорит о том, что модель практическии идеально предсказывает запасы нефти по переданным признакам. *RMSE* модели у 1 и 3 региона не такой хороший как у модели по 2 региону и равен **37.57** и **40.02** соответственно, чтобы понять насколько это хорошо или плохо, посмотрим минимальное и максимальное значение целевого признака из валидационных выборок по каждому региону:"
   ]
  },
  {
   "cell_type": "code",
   "execution_count": 24,
   "id": "a7449389",
   "metadata": {},
   "outputs": [
    {
     "name": "stdout",
     "output_type": "stream",
     "text": [
      "Минимальный объем запасов в скважине во 1-ом регионе 0.0040215231561772\n",
      "Максимальный объем запасов в скважине во 1-ом регионе 185.315412459934\n",
      "Минимальный объем запасов в скважине во 2-ом регионе 0.0\n",
      "Максимальный объем запасов в скважине во 2-ом регионе 137.94540774090564\n",
      "Минимальный объем запасов в скважине во 3-ем регионе 0.0\n",
      "Максимальный объем запасов в скважине во 3-ем регионе 190.01098161509907\n"
     ]
    }
   ],
   "source": [
    "print('Минимальный объем запасов в скважине во 1-ом регионе', geo_data_0_valid_target.min())\n",
    "print('Максимальный объем запасов в скважине во 1-ом регионе', geo_data_0_valid_target.max())\n",
    "\n",
    "print('Минимальный объем запасов в скважине во 2-ом регионе', geo_data_1_valid_target.min())\n",
    "print('Максимальный объем запасов в скважине во 2-ом регионе', geo_data_1_valid_target.max())\n",
    "\n",
    "print('Минимальный объем запасов в скважине во 3-ем регионе', geo_data_2_valid_target.min())\n",
    "print('Максимальный объем запасов в скважине во 3-ем регионе', geo_data_2_valid_target.max())"
   ]
  },
  {
   "cell_type": "markdown",
   "id": "72ad74aa",
   "metadata": {},
   "source": [
    "Диапазон значений по запасам нефти начинается с **0.004** и заканчивается **185** тыс.баррелей в 1 регионе и начинается с **0** и заканчивается **190** тыс.баррелей в 3 регионе, с учетом того, что на метрику *RMSE* могли сильно повлиять значения определенные модели как сильно большие, а в валидационной выборке эти значения наоборот слишком маленькие, то есть модель определила, что в некой скважине 10 тыс.баррелей нефти, а в валидационной выборке в этой скважине указана, допустим, 150 тыс.баррелей нефти, в следствии чего и растет значение по метрике *RMSE*. Так как метрика *RMSE* чувствительна к большим значениям, оценим ещё качество наших модели по метрике *R2*:"
   ]
  },
  {
   "cell_type": "code",
   "execution_count": 25,
   "id": "4ca933e1",
   "metadata": {},
   "outputs": [
    {
     "name": "stdout",
     "output_type": "stream",
     "text": [
      "R2 модели 1-го региона = 0.27994321524487786\n",
      "R2 модели 2-го региона = 0.9996233978805127\n",
      "R2 модели 3-го региона = 0.20524758386040443\n"
     ]
    }
   ],
   "source": [
    "print(\"R2 модели 1-го региона =\", r2_score(geo_data_0_valid_target, predictions_geo_data_0))\n",
    "print(\"R2 модели 2-го региона =\", r2_score(geo_data_1_valid_target, predictions_geo_data_1))\n",
    "print(\"R2 модели 3-го региона =\", r2_score(geo_data_2_valid_target, predictions_geo_data_2))"
   ]
  },
  {
   "cell_type": "markdown",
   "id": "3824ffd4",
   "metadata": {},
   "source": [
    "Метрика *R2* не отрицательная и не равна нулю для моделей по каждому региону, самый лучший показатель по данной метрике у модели по 2 региону — **0.99**, что ещё раз подтверждает что модель по 2 региону практические иделаьно предсказывает ответы. Метрика *R2* по 1 и 3 регионы имеет значение **0.279** и **0.205** соответственно, что говорит о том, что данные модели достаточно обучились, чтобы использовать их дальше, у моделей не низкое качество, так как у них не отрицательные значения по метрике *R2* и они не работают так, как и среднее, потому что у них значения по метрике *R2* больше нуля. Можно переходить к расчёту прибыли."
   ]
  },
  {
   "cell_type": "markdown",
   "id": "66bc5966",
   "metadata": {},
   "source": [
    "## Подготовка к расчёту прибыли"
   ]
  },
  {
   "cell_type": "markdown",
   "id": "23da91b5",
   "metadata": {},
   "source": [
    "Прежде чем рассчитывать прибыль, запишем в отдельные переменные ключевые значения для расчетов. Нам известные из условий задачи следующие данные:\n",
    "\n",
    "- при разведке региона исследуют 500 точек, из которых с помощью машинного обучения выбирают 200 лучших для разработки;\n",
    "- бюджет на разработку скважин в регионе — 10 млрд рублей;\n",
    "- доход с каждой единицы продукта составляет 450 тыс. рублей, поскольку объём указан в тысячах баррелей."
   ]
  },
  {
   "cell_type": "code",
   "execution_count": 26,
   "id": "110f75aa",
   "metadata": {},
   "outputs": [],
   "source": [
    "COUTN_POINT_OIL = 500 #кол-во точек с запасами нефти, которые исследуют в регионе\n",
    "COUNT_POINT_PREDICT = 200 #кол-во точек с запасами нефти, который выбирают для разработки скважин с помощью машинного \n",
    "                          #обучения\n",
    "BUDGET_WELLS = 10_000_000_000 #бюджет на разработку скважины\n",
    "REVENUE_OIL = 450_000 #доход с каждой единицы продукты, в датасетах объем указан в тыс. баррелей"
   ]
  },
  {
   "cell_type": "markdown",
   "id": "6453f33f",
   "metadata": {},
   "source": [
    "Ключевые значения в переменные записали, теперь можем рассчитать достаточный объём сырья для безубыточной разработки новой скважины. Чтобы рассчитать объема сырья разделим бюджет на разработку скважин в регионе на количество точек, которые выбирают для разработки скважин, затем полученное число разделим на доход с каждой единицы продукта:"
   ]
  },
  {
   "cell_type": "code",
   "execution_count": 27,
   "id": "a52b2536",
   "metadata": {},
   "outputs": [
    {
     "data": {
      "text/plain": [
       "111.11111111111111"
      ]
     },
     "execution_count": 27,
     "metadata": {},
     "output_type": "execute_result"
    }
   ],
   "source": [
    "profit_well_oil = (BUDGET_WELLS / COUNT_POINT_PREDICT) / REVENUE_OIL\n",
    "profit_well_oil"
   ]
  },
  {
   "cell_type": "markdown",
   "id": "8117efc9",
   "metadata": {},
   "source": [
    "Чтобы скважина была безубыточной, необходимо, чтобы в ней было запасов нефти на **111.11** тыс. баррелей. Посмотрим средний запас сырья в каждом из трех регионов:"
   ]
  },
  {
   "cell_type": "code",
   "execution_count": 28,
   "id": "bd70c951",
   "metadata": {},
   "outputs": [
    {
     "name": "stdout",
     "output_type": "stream",
     "text": [
      "Запас сырья в 1-ом регионе 92.49999999999974\n",
      "Запас сырья в 2-ом регионе 68.82500000002561\n",
      "Запас сырья в 3-ом регионе 95.00000000000041\n"
     ]
    }
   ],
   "source": [
    "print('Запас сырья в 1-ом регионе', geo_data_0['product'].mean())\n",
    "print('Запас сырья в 2-ом регионе', geo_data_1['product'].mean())\n",
    "print('Запас сырья в 3-ом регионе', geo_data_2['product'].mean())"
   ]
  },
  {
   "cell_type": "markdown",
   "id": "9864df77",
   "metadata": {},
   "source": [
    "Как видно по данным ни в одном регионе не достаточно среднего объема сырья, чтобы стать безубыточным регионом по разработке скважин, что говорит о том, что в каждом регионе необходимо разрабатывать скважины только в тех точках, где объем сырья равен или больше объема сырья для безубыточной разработки."
   ]
  },
  {
   "cell_type": "markdown",
   "id": "4f522499",
   "metadata": {},
   "source": [
    "## Расчёт прибыли и рисков"
   ]
  },
  {
   "cell_type": "markdown",
   "id": "9a0f94ae",
   "metadata": {},
   "source": [
    "Нам известно сколько нужно объемов сырья, чтобы безубыточное разрабатывать скважины в регионе, напишем функцию для расчета прибыли по выбранным скважинам, затем расчитаем возможные риски для каждого региона. Чтобы найти распределение прибыли воспользуемся техникой *Bootstrap* с 1000 выборок. Для расчета убытков воспользуемся 95%-й доверительным интервалом, в таком случае вероятность убытков в регионе должна быть не меньше 2.5%:\n",
    "\n",
    "Функция для расчета прибыли будет работать по следующему алгоритму:\n",
    "1. Выбираются скважины с предсказанным максимальным запасом сырья\n",
    "2. Суммируются запасы сырья по выбранным скважинам\n",
    "3. Рассчитывает прибыль для полученного объема сырья"
   ]
  },
  {
   "cell_type": "code",
   "execution_count": 29,
   "id": "1a360b6a",
   "metadata": {},
   "outputs": [],
   "source": [
    "def revenue(valid_product, prediction_product, count, price_one_oil):\n",
    "    '''\n",
    "    Функция рассчитывать прибыль по выбранным скважинам по предсказаниям модели\n",
    "    '''\n",
    "    prediction_product_sorted = prediction_product.sort_values(ascending=False)\n",
    "    valid_product_selected = valid_product[prediction_product_sorted.index][:count]\n",
    "    \n",
    "    return (valid_product_selected.sum() * price_one_oil) - BUDGET_WELLS"
   ]
  },
  {
   "cell_type": "markdown",
   "id": "93fd9544",
   "metadata": {},
   "source": [
    "Напишем отдельную функцию для применения техники *Bootstrap* с 1000 выборок чтобы найти распределение прибыли в каждом регионе:"
   ]
  },
  {
   "cell_type": "code",
   "execution_count": 30,
   "id": "26631676",
   "metadata": {},
   "outputs": [],
   "source": [
    "def bootstrap(valid_data_product, prediction_data_product, choice_cnt_point, prediction_cnt_point, price_one_oil):\n",
    "    revenue_product = []\n",
    "    state = np.random.RandomState(12345)\n",
    "    \n",
    "    for i in range(1000):\n",
    "        valid_data_product_subsample = valid_data_product.sample(n=choice_cnt_point, replace=True, random_state=state)\n",
    "        prediction_data_product_subsample = prediction_data_product[valid_data_product_subsample.index]\n",
    "        \n",
    "        revenue_product.append(revenue(valid_data_product_subsample, prediction_data_product_subsample, \n",
    "                                       prediction_cnt_point, price_one_oil))\n",
    "        \n",
    "    return revenue_product"
   ]
  },
  {
   "cell_type": "markdown",
   "id": "2495786c",
   "metadata": {},
   "source": [
    "Функции подготовленные, теперь найдем среднюю прибыль, долю отрицательной прибыли для каждого региона и **95%**-й доверительный интервал.\n",
    "\n",
    "Для расчета средней прибыли будем использовать технику *Bootstrap* с 1000 выборок, по условиям задачи нам необходимо будет из выборок выбирать 500 точек и потом с помощью машинного обучения, то есть из выборки где мы сделали предсказания, необходимо выбрать 200 лучших точек для разработки скважин. Рассчитаем среднюю прибыль и риск убытков для каждого региона по отдельности.\n",
    "\n",
    "Чтобы найти долю отрицательной прибыли, из полученной выборки с помощью техники *Bootstrap* будет искать количество точек с отрицательной прибылью от общего числа точек, затем полученное число необходимо будет разделить на общее число точек в выборке. Согласно условию задачи вероятность риска убытков должена быть меньше **2.5%**. \n",
    "\n",
    "Для определения **95%**-й доверительного интервала будет искать **2.5%**-квантиль и **97.5%**-квантиль, так мы сможем найти две границы доверительного интервала, левую и правую.\n",
    "\n",
    "Для расчета прибыли по каждому региону напишем отдельную функцию:"
   ]
  },
  {
   "cell_type": "code",
   "execution_count": 31,
   "id": "19289cf2",
   "metadata": {},
   "outputs": [],
   "source": [
    "def calc_revenue_by_region(data_target, data_predictions):\n",
    "    '''\n",
    "    Функция рассчитывает прибыль по региону\n",
    "    '''\n",
    "    data_target = pd.concat([data_target], ignore_index=True)\n",
    "    data_predictions = pd.Series(data_predictions)\n",
    "    \n",
    "    revenue_product_by_data = bootstrap(data_target, data_predictions, COUTN_POINT_OIL, COUNT_POINT_PREDICT, REVENUE_OIL)\n",
    "    return pd.Series(revenue_product_by_data)"
   ]
  },
  {
   "cell_type": "code",
   "execution_count": 32,
   "id": "735de1d2",
   "metadata": {},
   "outputs": [
    {
     "name": "stdout",
     "output_type": "stream",
     "text": [
      "Средняя прибыль из 1 региона 425938526.910592\n",
      "Риск убытков в 1 регионе 6.0%\n",
      "Левая граница 95% доверительного интервала -102090094.83793654 Правая граница 95% доверительного интервала 947976353.3583689\n"
     ]
    }
   ],
   "source": [
    "revenue_product_by_geo_data_0 = calc_revenue_by_region(geo_data_0_valid_target, predictions_geo_data_0)\n",
    "print('Средняя прибыль из 1 региона', revenue_product_by_geo_data_0.mean())\n",
    "\n",
    "risk_of_loss_by_geo_data_0 = (revenue_product_by_geo_data_0[revenue_product_by_geo_data_0.values < 0].count() / \n",
    "                             revenue_product_by_geo_data_0.count())\n",
    "print(f'Риск убытков в 1 регионе {risk_of_loss_by_geo_data_0:.1%}')\n",
    "\n",
    "print('Левая граница 95% доверительного интервала', revenue_product_by_geo_data_0.quantile(0.025), \n",
    "      'Правая граница 95% доверительного интервала', revenue_product_by_geo_data_0.quantile(0.975))"
   ]
  },
  {
   "cell_type": "code",
   "execution_count": 33,
   "id": "6b6f263f",
   "metadata": {},
   "outputs": [
    {
     "name": "stdout",
     "output_type": "stream",
     "text": [
      "Средняя прибыль из 2 региона 515.2227734432901\n",
      "Риск убытков в 2 регионе 1.0%\n",
      "Левая граница 95% доверительного интервала 68873225.37050176 Правая граница 95% доверительного интервала 931547591.2570494\n"
     ]
    }
   ],
   "source": [
    "revenue_product_by_geo_data_1 = calc_revenue_by_region(geo_data_1_valid_target, predictions_geo_data_1)\n",
    "print('Средняя прибыль из 2 региона', revenue_product_by_geo_data_1.mean() / 1_000_000)\n",
    "\n",
    "risk_of_loss_by_geo_data_1 = (revenue_product_by_geo_data_1[revenue_product_by_geo_data_1.values < 0].count() / \n",
    "                             revenue_product_by_geo_data_1.count())\n",
    "print(f'Риск убытков в 2 регионе {risk_of_loss_by_geo_data_1:.1%}')\n",
    "\n",
    "print('Левая граница 95% доверительного интервала', revenue_product_by_geo_data_1.quantile(0.025), \n",
    "      'Правая граница 95% доверительного интервала', revenue_product_by_geo_data_1.quantile(0.975))"
   ]
  },
  {
   "cell_type": "code",
   "execution_count": 34,
   "id": "1233e5fa",
   "metadata": {},
   "outputs": [
    {
     "name": "stdout",
     "output_type": "stream",
     "text": [
      "Средняя прибыль из 2 региона 435008362.782756\n",
      "Риск убытков в 3 регионе 6.4%\n",
      "Левая граница 95% доверительного интервала -128880547.32978901 Правая граница 95% доверительного интервала 969706954.1802661\n"
     ]
    }
   ],
   "source": [
    "revenue_product_by_geo_data_2 = calc_revenue_by_region(geo_data_2_valid_target, predictions_geo_data_2)\n",
    "print('Средняя прибыль из 2 региона', revenue_product_by_geo_data_2.mean())\n",
    "\n",
    "risk_of_loss_by_geo_data_2 = (revenue_product_by_geo_data_2[revenue_product_by_geo_data_2.values < 0].count() / \n",
    "                             revenue_product_by_geo_data_2.count())\n",
    "print(f'Риск убытков в 3 регионе {risk_of_loss_by_geo_data_2:.1%}')\n",
    "\n",
    "print('Левая граница 95% доверительного интервала', revenue_product_by_geo_data_2.quantile(0.025), \n",
    "      'Правая граница 95% доверительного интервала', revenue_product_by_geo_data_2.quantile(0.975))"
   ]
  },
  {
   "cell_type": "markdown",
   "id": "a96388b9",
   "metadata": {},
   "source": [
    "Во всех трех регионах средняя прибыль полученная с помощью техники *Bootstrap* не отрицательная, что вроде бы как говорит о том, что в каждом регионе можно разрабатывать скважины. Однако, в 1 и 3 регионе, левая граница **95%** доверительного интервала отрицательная, что говорит о том, что при разработке этих скважин в этих регионах с вероятность **2.5%** можно получить отрицательную прибыль, которая указана в левой границе доверительного интервала. Согласно расчетам риск убытка в 1 и 3 регионе составляет **6%** и **6.4%**, а по условиям задачи риск убытка должен быть менее **2.5%**, под эти критерии у нас подходит 2 регион, у него риск убытка составляет всего **1%**, левая граница **95%** доверительного интервала положительная, а также самая высокая средняя прибыль по сравнению с другими регионами. \n",
    "\n",
    "Посмотрим ещё на распределение прибыли со скважин в разных регионах, чтобы убедиться в правильном выборе регионе для разработки скважин, для этого построим графики по каждому региону с помощью метода `plot` из библиотеки `pandas`:"
   ]
  },
  {
   "cell_type": "code",
   "execution_count": 35,
   "id": "74c1e4c8",
   "metadata": {},
   "outputs": [
    {
     "data": {
      "image/png": "[encoded data removed]",
      "text/plain": [
       "<Figure size 1500x1000 with 1 Axes>"
      ]
     },
     "metadata": {},
     "output_type": "display_data"
    }
   ],
   "source": [
    "revenue_product_by_geo_data_0.plot(kind='kde', grid=True, figsize=(15, 10), title='Распределение прибыли в 1-ом регионе')\n",
    "plt.show()"
   ]
  },
  {
   "cell_type": "code",
   "execution_count": 36,
   "id": "075af18b",
   "metadata": {},
   "outputs": [
    {
     "data": {
      "image/png": "[encoded data removed]",
      "text/plain": [
       "<Figure size 1500x1000 with 1 Axes>"
      ]
     },
     "metadata": {},
     "output_type": "display_data"
    }
   ],
   "source": [
    "revenue_product_by_geo_data_1.plot(kind='kde', grid=True, figsize=(15, 10), title='Распределение прибыли в 2-ом регионе')\n",
    "plt.show()"
   ]
  },
  {
   "cell_type": "code",
   "execution_count": 37,
   "id": "66abb512",
   "metadata": {},
   "outputs": [
    {
     "data": {
      "image/png": "[encoded data removed]",
      "text/plain": [
       "<Figure size 1500x1000 with 1 Axes>"
      ]
     },
     "metadata": {},
     "output_type": "display_data"
    }
   ],
   "source": [
    "revenue_product_by_geo_data_2.plot(kind='kde', grid=True, figsize=(15, 10), title='Распределение прибыли в 3-ом регионе')\n",
    "plt.show()"
   ]
  },
  {
   "cell_type": "markdown",
   "id": "ae78b4c5",
   "metadata": {},
   "source": [
    "Как видно по графикам во всех трех регионах прибыль со скважин имеет нормально распределение. Если смотреть на графиках на область под прямой начиная с 0 по оси абсцисс, в нашем случае на графике в этой точке начинается прибыль при разработке скважин в регионе, то можно увидеть, что на графике по 2 региону эта область будет самая большая по сравению с другими регионами, что говорит о том, что лучше всего разрабатывать скважину в этом регионе.  "
   ]
  },
  {
   "cell_type": "markdown",
   "id": "ced92cc5",
   "metadata": {},
   "source": [
    "### Общий вывод"
   ]
  },
  {
   "cell_type": "markdown",
   "id": "1d3620bb",
   "metadata": {},
   "source": [
    "В рамках задачи нам нужно было обучить модель машинного обучения которая поможет определить регион, где добыча принесёт наибольшую прибыль. В качестве модели машинного обучения была выбрана модель **Линейной регрессии**. Чтобы рассчитать  возможную прибыль и риски была использована техника *Bootstrap*, с помощью которой была рассчитана возможность прибыль по предсказанным запасам нефти в трех разных регионах, получены следующие результаты:\n",
    "\n",
    "Во всех трех регионах можно разрабатывать скважины и есть вероятность получить прибыль с учетом затраченного бюджета в 10 млрд рублей, однако прибыль во всех трех регионах разная, а также разный риск убытков:\n",
    "\n",
    "- 1-ый регион — **6%** риск убытков;\n",
    "- 2-ой регион — **1%** риск убытков;\n",
    "- 3-ий регион — **6.4%** риск убытков.\n",
    "\n",
    "\n",
    "- 1-ый регион — **425.93** млн. рублей прибыли;\n",
    "- 2-ой регион — **515.22** млн. рублей прибыли;\n",
    "- 3-ий регион — **435** млн. рублей прибыли.\n",
    "\n",
    "Как видно по списку больше всего прибыли в 2 регионе и она составляет **515.22** млн. рублей. Также в данном регионе самый низкий риск убытка — **1%**.\n",
    "\n",
    "На основани вышеизложеннго рекомендуется разрабатывать скважины в 2 регионе, так как в нем больше всего прибыльных скважин и самый низкий риск убытков."
   ]
  }
 ],
 "metadata": {
  "kernelspec": {
   "display_name": "Python 3 (ipykernel)",
   "language": "python",
   "name": "python3"
  },
  "language_info": {
   "codemirror_mode": {
    "name": "ipython",
    "version": 3
   },
   "file_extension": ".py",
   "mimetype": "text/x-python",
   "name": "python",
   "nbconvert_exporter": "python",
   "pygments_lexer": "ipython3",
   "version": "3.9.13"
  },
  "toc": {
   "base_numbering": 1,
   "nav_menu": {},
   "number_sections": true,
   "sideBar": true,
   "skip_h1_title": true,
   "title_cell": "Table of Contents",
   "title_sidebar": "Contents",
   "toc_cell": false,
   "toc_position": {},
   "toc_section_display": true,
   "toc_window_display": false
  }
 },
 "nbformat": 4,
 "nbformat_minor": 5
}
